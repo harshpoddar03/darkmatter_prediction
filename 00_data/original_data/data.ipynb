{
 "cells": [
  {
   "cell_type": "code",
   "execution_count": 1,
   "metadata": {},
   "outputs": [],
   "source": [
    "import numpy as np\n",
    "import glob\n",
    "from tqdm import tqdm"
   ]
  },
  {
   "cell_type": "code",
   "execution_count": 2,
   "metadata": {},
   "outputs": [],
   "source": [
    "def get_images(directory):\n",
    "    # Get all the npy files in the directory\n",
    "    files = glob.glob(directory + '/*.npy')\n",
    "    \n",
    "    data = []\n",
    "    for filename in tqdm(files, desc='Loading images', unit='image', total=len(files)):\n",
    "        with open(filename, 'rb') as f:\n",
    "            # Load the npy file content into a numpy array\n",
    "            data.append(np.load(f))\n",
    "    return data"
   ]
  },
  {
   "cell_type": "code",
   "execution_count": 16,
   "metadata": {},
   "outputs": [
    {
     "name": "stderr",
     "output_type": "stream",
     "text": [
      "Loading images:   0%|          | 0/10000 [00:00<?, ?image/s]"
     ]
    },
    {
     "name": "stderr",
     "output_type": "stream",
     "text": [
      "Loading images: 100%|██████████| 10000/10000 [00:49<00:00, 203.70image/s]\n",
      "Loading images: 100%|██████████| 10000/10000 [00:49<00:00, 203.62image/s]\n"
     ]
    }
   ],
   "source": [
    "no = get_images('../../00_data/dataset/train/no')\n",
    "sphere = get_images('../../00_data/dataset/train/sphere')\n",
    "vortex = get_images('../../00_data/dataset/train/vort')"
   ]
  },
  {
   "cell_type": "code",
   "execution_count": 18,
   "metadata": {},
   "outputs": [
    {
     "name": "stdout",
     "output_type": "stream",
     "text": [
      "(10000, 1, 150, 150)\n",
      "(10000, 1, 150, 150)\n",
      "(10000, 1, 150, 150)\n"
     ]
    }
   ],
   "source": [
    "no = np.array(no)\n",
    "sphere = np.array(sphere)\n",
    "vortex = np.array(vortex)\n",
    "\n",
    "print(no.shape)\n",
    "print(sphere.shape)\n",
    "print(vortex.shape)\n"
   ]
  },
  {
   "cell_type": "code",
   "execution_count": 19,
   "metadata": {},
   "outputs": [
    {
     "name": "stdout",
     "output_type": "stream",
     "text": [
      "(10000, 150, 150, 1)\n",
      "(10000, 150, 150, 1)\n",
      "(10000, 150, 150, 1)\n"
     ]
    }
   ],
   "source": [
    "#transpose the data \n",
    "no = no.transpose(0, 2, 3, 1)\n",
    "sphere = sphere.transpose(0, 2, 3, 1)\n",
    "vortex = vortex.transpose(0, 2, 3, 1)\n",
    "\n",
    "print(no.shape)\n",
    "print(sphere.shape)\n",
    "print(vortex.shape)\n"
   ]
  },
  {
   "cell_type": "code",
   "execution_count": 21,
   "metadata": {},
   "outputs": [
    {
     "name": "stdout",
     "output_type": "stream",
     "text": [
      "(10000, 150, 150, 1)\n",
      "(10000, 150, 150, 1)\n",
      "(10000, 150, 150, 1)\n"
     ]
    }
   ],
   "source": [
    "print(no.shape)\n",
    "print(sphere.shape)\n",
    "print(vortex.shape)\n",
    "\n",
    "np.save('val_no.npy', no)\n",
    "np.save('val_sphere.npy', sphere)\n",
    "np.save('val_vortex.npy', vortex)\n"
   ]
  },
  {
   "cell_type": "code",
   "execution_count": null,
   "metadata": {},
   "outputs": [
    {
     "name": "stdout",
     "output_type": "stream",
     "text": [
      "(30000, 150, 150)\n"
     ]
    }
   ],
   "source": [
    "x_data = np.concatenate((no, sphere, vortex), axis=0)\n",
    "print(x_data.shape)"
   ]
  },
  {
   "cell_type": "code",
   "execution_count": null,
   "metadata": {},
   "outputs": [],
   "source": [
    "np.save('x_data.npy', x_data)"
   ]
  },
  {
   "cell_type": "code",
   "execution_count": null,
   "metadata": {},
   "outputs": [],
   "source": []
  }
 ],
 "metadata": {
  "kernelspec": {
   "display_name": "gsoc12",
   "language": "python",
   "name": "python3"
  },
  "language_info": {
   "codemirror_mode": {
    "name": "ipython",
    "version": 3
   },
   "file_extension": ".py",
   "mimetype": "text/x-python",
   "name": "python",
   "nbconvert_exporter": "python",
   "pygments_lexer": "ipython3",
   "version": "3.12.2"
  }
 },
 "nbformat": 4,
 "nbformat_minor": 2
}
