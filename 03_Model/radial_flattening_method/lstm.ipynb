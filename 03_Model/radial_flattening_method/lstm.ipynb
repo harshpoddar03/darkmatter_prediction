{
 "cells": [
  {
   "cell_type": "code",
   "execution_count": 12,
   "metadata": {},
   "outputs": [],
   "source": [
    "#load pickle file\n",
    "import pickle\n",
    "import numpy as np\n",
    "import seaborn as sns"
   ]
  },
  {
   "cell_type": "code",
   "execution_count": 13,
   "metadata": {},
   "outputs": [],
   "source": [
    "with open('../Data_Preprocessing/sphere.pkl', 'rb') as f:\n",
    "        sphere = pickle.load(f)\n",
    "\n",
    "with open('../Data_Preprocessing/no.pkl', 'rb') as f:\n",
    "        no = pickle.load(f)\n",
    "\n",
    "with open('../Data_Preprocessing/vort.pkl', 'rb') as f:\n",
    "        vort = pickle.load(f)\n",
    "\n"
   ]
  },
  {
   "cell_type": "code",
   "execution_count": 14,
   "metadata": {},
   "outputs": [],
   "source": [
    " #make  y values for all the data class\n",
    "\n",
    "y_sphere = [0 for i in range(len(sphere))]\n",
    "y_no = [1 for i in range(len(no))]\n",
    "y_vort = [2 for i in range(len(vort))]\n",
    "\n",
    "#append all the y values\n",
    "y = y_sphere + y_no + y_vort\n",
    "\n",
    "#append all x values\n",
    "x  =  np.concatenate((sphere, no, vort), axis=0)\n",
    "\n"
   ]
  },
  {
   "cell_type": "markdown",
   "metadata": {},
   "source": [
    "### Preparation of Input Data\n"
   ]
  },
  {
   "cell_type": "code",
   "execution_count": 15,
   "metadata": {},
   "outputs": [],
   "source": [
    "#for every data point in numpy x of 3 dim covert it to log\n",
    "# from tqdm import tqdm\n",
    "# for i in tqdm(range(len(x)),desc = 'Converting to log',total=len(x)):\n",
    "#     for j in range(len(x[i])):\n",
    "#         for k in range(len(x[i][j])):\n",
    "#             x[i][j][k] = np.log(x[i][j][k])\n",
    "\n",
    "\n",
    "x = np.log(x)"
   ]
  },
  {
   "cell_type": "code",
   "execution_count": 16,
   "metadata": {},
   "outputs": [],
   "source": [
    "x = np.transpose(x, (0, 2, 1))"
   ]
  },
  {
   "cell_type": "code",
   "execution_count": 17,
   "metadata": {},
   "outputs": [],
   "source": [
    "from tensorflow.keras.utils import to_categorical\n",
    "y = to_categorical(y)\n"
   ]
  },
  {
   "cell_type": "code",
   "execution_count": 18,
   "metadata": {},
   "outputs": [],
   "source": [
    "#split the data\n",
    "from sklearn.model_selection import train_test_split\n",
    "x_train, x_test, y_train, y_test = train_test_split(x, y, test_size=0.2, random_state=42)"
   ]
  },
  {
   "cell_type": "code",
   "execution_count": 20,
   "metadata": {},
   "outputs": [
    {
     "data": {
      "text/plain": [
       "(24000, 360, 24)"
      ]
     },
     "execution_count": 20,
     "metadata": {},
     "output_type": "execute_result"
    }
   ],
   "source": [
    "x_train.shape"
   ]
  },
  {
   "cell_type": "markdown",
   "metadata": {},
   "source": [
    "### LSTM Architecture"
   ]
  },
  {
   "cell_type": "code",
   "execution_count": 25,
   "metadata": {},
   "outputs": [
    {
     "name": "stdout",
     "output_type": "stream",
     "text": [
      "Model: \"sequential_2\"\n",
      "_________________________________________________________________\n",
      " Layer (type)                Output Shape              Param #   \n",
      "=================================================================\n",
      " conv1d_4 (Conv1D)           (None, 177, 50)           9650      \n",
      "                                                                 \n",
      " conv1d_5 (Conv1D)           (None, 87, 25)            5025      \n",
      "                                                                 \n",
      " lstm_2 (LSTM)               (None, 150)               105600    \n",
      "                                                                 \n",
      " dense_4 (Dense)             (None, 50)                7550      \n",
      "                                                                 \n",
      " dense_5 (Dense)             (None, 3)                 153       \n",
      "                                                                 \n",
      "=================================================================\n",
      "Total params: 127,978\n",
      "Trainable params: 127,978\n",
      "Non-trainable params: 0\n",
      "_________________________________________________________________\n"
     ]
    }
   ],
   "source": [
    "from tensorflow.keras.models import Sequential\n",
    "from tensorflow.keras.layers import Dense, LSTM, Conv1D, Dropout, Flatten\n",
    "\n",
    "# Update parameters based on the revised structure\n",
    "n_steps = 360  # Sequence length\n",
    "n_features = 24  # Number of features at each timestep\n",
    "out_len = 3  # Number of output classes for classification\n",
    "\n",
    "\n",
    "model = Sequential()\n",
    "\n",
    "# First Conv1D layer\n",
    "model.add(Conv1D(filters=50, kernel_size=8, strides=2, activation='relu', input_shape=(n_steps, n_features)))\n",
    "\n",
    "# Second Conv1D layer\n",
    "model.add(Conv1D(filters=25, kernel_size=4, strides=2, activation='relu'))\n",
    "\n",
    "# Dropout for regularization\n",
    "model.add(Dropout(0.2))\n",
    "\n",
    "# LSTM layer to process the now flattened sequence\n",
    "model.add(LSTM(150))\n",
    "\n",
    "# Additional dropout to prevent overfitting\n",
    "# model.add(Dropout(0.3))\n",
    "\n",
    "# A Dense layer for feature learning\n",
    "model.add(Dense(50, activation='relu'))\n",
    "\n",
    "# Final Dense layer with softmax for classification\n",
    "model.add(Dense(out_len, activation='softmax'))\n",
    "\n",
    "# Compile the model\n",
    "model.compile(loss='categorical_crossentropy', optimizer='adam', metrics=['accuracy'])\n",
    "\n",
    "# Displaying the model summary\n",
    "model.summary()\n"
   ]
  },
  {
   "cell_type": "markdown",
   "metadata": {},
   "source": [
    "### Model Stopped Early due to poor results"
   ]
  },
  {
   "cell_type": "code",
   "execution_count": 26,
   "metadata": {},
   "outputs": [
    {
     "name": "stdout",
     "output_type": "stream",
     "text": [
      "Epoch 1/10\n",
      "750/750 [==============================] - 13s 16ms/step - loss: nan - accuracy: 0.3332 - val_loss: nan - val_accuracy: 0.3337\n",
      "Epoch 2/10\n",
      "750/750 [==============================] - 11s 14ms/step - loss: nan - accuracy: 0.3332 - val_loss: nan - val_accuracy: 0.3337\n",
      "Epoch 3/10\n",
      "575/750 [======================>.......] - ETA: 2s - loss: nan - accuracy: 0.3333"
     ]
    }
   ],
   "source": [
    "model.fit(x_train, y_train, epochs=10, batch_size=32, validation_data=(x_test, y_test))"
   ]
  },
  {
   "cell_type": "markdown",
   "metadata": {},
   "source": [
    "### Conclusion"
   ]
  },
  {
   "cell_type": "markdown",
   "metadata": {},
   "source": [
    "#### The model is not performing well so AUC score wasnt calculated"
   ]
  }
 ],
 "metadata": {
  "kernelspec": {
   "display_name": "ml_cuda",
   "language": "python",
   "name": "python3"
  },
  "language_info": {
   "codemirror_mode": {
    "name": "ipython",
    "version": 3
   },
   "file_extension": ".py",
   "mimetype": "text/x-python",
   "name": "python",
   "nbconvert_exporter": "python",
   "pygments_lexer": "ipython3",
   "version": "3.10.13"
  }
 },
 "nbformat": 4,
 "nbformat_minor": 2
}
