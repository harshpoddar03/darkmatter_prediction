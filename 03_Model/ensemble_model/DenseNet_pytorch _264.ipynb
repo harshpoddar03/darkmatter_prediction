{
  "cells": [
    {
      "cell_type": "markdown",
      "metadata": {
        "id": "csEnOU0PrQCm"
      },
      "source": [
        "# Multi-class Substructure Classification\n",
        "\n",
        "<u>Evaluation Metrics</u>: ROC curve (Receiver Operating Characteristic curve) and AUC score (Area Under the ROC Curve).\n",
        "\n",
        "<u>Approach Used</u>: Train and evaluate the performance of different CNNs, ViTs, and Ensembles. Combine (average) the predictions of all the models to provide the best results."
      ]
    },
    {
      "cell_type": "markdown",
      "metadata": {
        "id": "hLKJnltOsUOU"
      },
      "source": [
        "# 1. Imports"
      ]
    },
    {
      "cell_type": "code",
      "execution_count": 1,
      "metadata": {
        "execution": {
          "iopub.execute_input": "2023-03-08T07:58:49.000391Z",
          "iopub.status.busy": "2023-03-08T07:58:49.000102Z",
          "iopub.status.idle": "2023-03-08T07:58:55.386820Z",
          "shell.execute_reply": "2023-03-08T07:58:55.385676Z",
          "shell.execute_reply.started": "2023-03-08T07:58:49.000364Z"
        },
        "id": "5yr39jHYrM5h",
        "trusted": true
      },
      "outputs": [
        {
          "name": "stderr",
          "output_type": "stream",
          "text": [
            "/home/harsh/anaconda3/envs/pytorch-cuda/lib/python3.12/site-packages/tqdm/auto.py:21: TqdmWarning: IProgress not found. Please update jupyter and ipywidgets. See https://ipywidgets.readthedocs.io/en/stable/user_install.html\n",
            "  from .autonotebook import tqdm as notebook_tqdm\n"
          ]
        }
      ],
      "source": [
        "import os\n",
        "import numpy as np\n",
        "import pandas as pd\n",
        "from pandas.core.common import flatten\n",
        "import matplotlib.pyplot as plt\n",
        "from matplotlib.ticker import MaxNLocator\n",
        "import seaborn as sns\n",
        "import platform\n",
        "from tqdm import tqdm\n",
        "import random\n",
        "import glob\n",
        "import copy\n",
        "from dataclasses import dataclass\n",
        "import time\n",
        "from collections import Counter\n",
        "from collections import defaultdict\n",
        "import gc\n",
        "\n",
        "import sklearn\n",
        "from sklearn.metrics import classification_report, f1_score, precision_score, recall_score, confusion_matrix, roc_curve, auc, roc_auc_score\n",
        "\n",
        "import albumentations as A\n",
        "# from albumentations.pytorch import ToTensorV2\n",
        "\n",
        "import torch\n",
        "from torch.utils.data import Dataset, DataLoader\n",
        "import torch.nn as nn\n",
        "import torchvision\n",
        "import torchvision.models as models\n",
        "import torch.nn.functional as nnf\n",
        "\n",
        "import timm\n",
        "import cv2\n",
        "\n",
        "import warnings\n",
        "warnings.filterwarnings(\"ignore\")\n",
        "\n",
        "os.environ['CUDA_VISIBLE_DEVICES'] = '0'"
      ]
    },
    {
      "cell_type": "markdown",
      "metadata": {
        "id": "vIWfwv4CsW28"
      },
      "source": [
        "Check for GPU availability"
      ]
    },
    {
      "cell_type": "code",
      "execution_count": 2,
      "metadata": {
        "execution": {
          "iopub.execute_input": "2023-03-08T07:58:58.259015Z",
          "iopub.status.busy": "2023-03-08T07:58:58.257903Z",
          "iopub.status.idle": "2023-03-08T07:58:59.246662Z",
          "shell.execute_reply": "2023-03-08T07:58:59.245514Z",
          "shell.execute_reply.started": "2023-03-08T07:58:58.258954Z"
        },
        "id": "WNlsqD_urM5j",
        "outputId": "9d31ebbd-7700-48e7-9898-de35d64a6060",
        "trusted": true
      },
      "outputs": [
        {
          "name": "stdout",
          "output_type": "stream",
          "text": [
            "Fri Mar 29 17:00:29 2024       \n",
            "+-----------------------------------------------------------------------------------------+\n",
            "| NVIDIA-SMI 550.60.01              Driver Version: 551.76         CUDA Version: 12.4     |\n",
            "|-----------------------------------------+------------------------+----------------------+\n",
            "| GPU  Name                 Persistence-M | Bus-Id          Disp.A | Volatile Uncorr. ECC |\n",
            "| Fan  Temp   Perf          Pwr:Usage/Cap |           Memory-Usage | GPU-Util  Compute M. |\n",
            "|                                         |                        |               MIG M. |\n",
            "|=========================================+========================+======================|\n",
            "|   0  NVIDIA GeForce RTX 4080        On  |   00000000:01:00.0  On |                  N/A |\n",
            "|  0%   50C    P0             50W /  320W |    8571MiB /  16376MiB |      1%      Default |\n",
            "|                                         |                        |                  N/A |\n",
            "+-----------------------------------------+------------------------+----------------------+\n",
            "                                                                                         \n",
            "+-----------------------------------------------------------------------------------------+\n",
            "| Processes:                                                                              |\n",
            "|  GPU   GI   CI        PID   Type   Process name                              GPU Memory |\n",
            "|        ID   ID                                                               Usage      |\n",
            "|=========================================================================================|\n",
            "|    0   N/A  N/A      1859      C   /python3.12                                 N/A      |\n",
            "+-----------------------------------------------------------------------------------------+\n"
          ]
        }
      ],
      "source": [
        "!nvidia-smi"
      ]
    },
    {
      "cell_type": "markdown",
      "metadata": {
        "id": "tfPbb8oosaCG"
      },
      "source": [
        "Define a `CONFIG` class containing different hyperparameters for our models, set a common random seed and use the `DEVICE` (GPU) to train the models."
      ]
    },
    {
      "cell_type": "code",
      "execution_count": 25,
      "metadata": {
        "execution": {
          "iopub.execute_input": "2023-03-08T07:58:59.249599Z",
          "iopub.status.busy": "2023-03-08T07:58:59.249094Z",
          "iopub.status.idle": "2023-03-08T07:58:59.336567Z",
          "shell.execute_reply": "2023-03-08T07:58:59.335073Z",
          "shell.execute_reply.started": "2023-03-08T07:58:59.249551Z"
        },
        "id": "S8T-7OwkrM5l",
        "outputId": "e108d9a4-299f-4b1f-8497-20aaa286b84b",
        "trusted": true
      },
      "outputs": [
        {
          "name": "stdout",
          "output_type": "stream",
          "text": [
            "[INFO] Using GPU: NVIDIA GeForce RTX 4080\n",
            "\n"
          ]
        }
      ],
      "source": [
        "@dataclass\n",
        "class CONFIG:\n",
        "    TRAIN_PATH = \"/kaggle/input/gsoc-deep-lense-task-1/dataset/train\"\n",
        "    VAL_PATH = \"/kaggle/input/gsoc-deep-lense-task-1/dataset/val\"\n",
        "    MODEL_NAMES = ['densenet161', 'mobilevitv2_150', 'mobilevitv2_150_384_in22ft1k']\n",
        "    BATCH_SIZE = 16\n",
        "    LEARNING_RATE = 1e-4\n",
        "    DROPOUT = 0.3\n",
        "    EPOCHS = 10\n",
        "\n",
        "def set_seed(seed):\n",
        "    np.random.seed(seed)\n",
        "    random.seed(seed)\n",
        "    torch.manual_seed(seed)\n",
        "    torch.cuda.manual_seed_all(seed)\n",
        "    os.environ[\"PYTHONHASHSEED\"] = str(seed)\n",
        "    \n",
        "def get_device():\n",
        "    global DEVICE\n",
        "    if torch.cuda.is_available():\n",
        "        print(\"[INFO] Using GPU: {}\\n\".format(torch.cuda.get_device_name()))\n",
        "        DEVICE = torch.device(\"cuda:0\")\n",
        "    else:\n",
        "        print(\"\\n[INFO] GPU not found. Using CPU: {}\\n\".format(platform.processor()))\n",
        "        DEVICE = torch.device(\"cpu\")\n",
        "    \n",
        "RANDOM_SEED = 42\n",
        "set_seed(RANDOM_SEED)\n",
        "get_device()"
      ]
    },
    {
      "cell_type": "markdown",
      "metadata": {
        "id": "0YdMzPswsyCf"
      },
      "source": [
        "Get file paths for training and validation sets"
      ]
    },
    {
      "cell_type": "code",
      "execution_count": 4,
      "metadata": {
        "execution": {
          "iopub.execute_input": "2023-03-08T07:58:59.340116Z",
          "iopub.status.busy": "2023-03-08T07:58:59.339392Z",
          "iopub.status.idle": "2023-03-08T07:59:00.189816Z",
          "shell.execute_reply": "2023-03-08T07:59:00.188645Z",
          "shell.execute_reply.started": "2023-03-08T07:58:59.340075Z"
        },
        "id": "QYA5GOiyrM5m",
        "outputId": "3fd193c4-6f63-433f-e7f2-aa018ccd2ee7",
        "trusted": true
      },
      "outputs": [],
      "source": [
        "# train_image_paths = []\n",
        "# val_image_paths = []\n",
        "# classes = []\n",
        "\n",
        "# for train_data_path in glob.glob(CONFIG.TRAIN_PATH + \"/*\"):\n",
        "#     classes.append(train_data_path.split(\"/\")[-1])\n",
        "#     train_image_paths.append(glob.glob(train_data_path + \"/*\"))\n",
        "    \n",
        "# for val_data_path in glob.glob(CONFIG.VAL_PATH + \"/*\"):\n",
        "#     val_image_paths.append(glob.glob(val_data_path + \"/*\"))\n",
        "    \n",
        "# # print(train_image_paths)\n",
        "# # print(classes)\n",
        "\n",
        "# train_image_paths = list(flatten(train_image_paths))\n",
        "# val_image_paths = list(flatten(val_image_paths))\n",
        "\n",
        "\n",
        "# # print(f\"Train Image Path: {train_image_paths[0].split('/')[-2]}\")\n",
        "# # print(f\"Class: {classes[0]}\")\n",
        "\n",
        "# print(f\"Train Size: {len(train_image_paths)}\\nVal Size: {len(val_image_paths)}\")"
      ]
    },
    {
      "cell_type": "markdown",
      "metadata": {
        "id": "aMKK7k_Ks3nz"
      },
      "source": [
        "Map indices to classes and vice-versa"
      ]
    },
    {
      "cell_type": "code",
      "execution_count": 5,
      "metadata": {
        "execution": {
          "iopub.execute_input": "2023-03-08T07:59:00.192330Z",
          "iopub.status.busy": "2023-03-08T07:59:00.191702Z",
          "iopub.status.idle": "2023-03-08T07:59:00.199902Z",
          "shell.execute_reply": "2023-03-08T07:59:00.198835Z",
          "shell.execute_reply.started": "2023-03-08T07:59:00.192291Z"
        },
        "id": "88kzxRIMrM5n",
        "outputId": "a6dbf55b-9b91-4ba1-8e84-6e5e1ad06f42",
        "trusted": true
      },
      "outputs": [],
      "source": [
        "# idx_to_class = {i: j for i, j in enumerate(classes)}\n",
        "# class_to_idx = {value: key for key, value in idx_to_class.items()}\n",
        "\n",
        "# print(f\"Index to class dictionary: {idx_to_class}\")\n",
        "# print(f\"Class to index dictionary: {class_to_idx}\")"
      ]
    },
    {
      "cell_type": "markdown",
      "metadata": {
        "id": "GyLfUAgus79f"
      },
      "source": [
        "# 2. Creating the Dataset\n",
        "\n",
        "Create a custom dataset class `GSoCDeepLensePrivateDatasetTask1` for creating train and valid sets"
      ]
    },
    {
      "cell_type": "code",
      "execution_count": 6,
      "metadata": {
        "execution": {
          "iopub.execute_input": "2023-03-08T07:59:01.328982Z",
          "iopub.status.busy": "2023-03-08T07:59:01.328295Z",
          "iopub.status.idle": "2023-03-08T07:59:01.336768Z",
          "shell.execute_reply": "2023-03-08T07:59:01.335483Z",
          "shell.execute_reply.started": "2023-03-08T07:59:01.328944Z"
        },
        "id": "LZ8Fa62qrM5n",
        "trusted": true
      },
      "outputs": [],
      "source": [
        "# class GSoCDeepLensePrivateDatasetTask1(Dataset):\n",
        "    \n",
        "#     def __init__(self, image_paths, transform=False):\n",
        "#         self.image_paths = image_paths\n",
        "#         self.transform = transform\n",
        "        \n",
        "#     def __len__(self):\n",
        "#         return len(self.image_paths)\n",
        "    \n",
        "#     def __getitem__(self, idx):\n",
        "#         image_filepath = self.image_paths[idx]\n",
        "#         image = np.load(image_filepath)\n",
        "        \n",
        "#         if(self.transform is not False):\n",
        "#             image = self.transform(image=image)[\"image\"]\n",
        "        \n",
        "#         label = image_filepath.split(\"/\")[-2]\n",
        "#         label = class_to_idx[label]\n",
        "            \n",
        "#         return image, label\n",
        "\n",
        "# train_dataset = GSoCDeepLensePrivateDatasetTask1(image_paths=train_image_paths, transform=False)\n",
        "# val_dataset = GSoCDeepLensePrivateDatasetTask1(image_paths=val_image_paths, transform=False)"
      ]
    },
    {
      "cell_type": "markdown",
      "metadata": {
        "id": "n5MuZpXhtXNJ"
      },
      "source": [
        "# 3. Visualizing Images\n",
        "\n",
        "Taking a look at the images present in the train and valid sets respectively"
      ]
    },
    {
      "cell_type": "code",
      "execution_count": 7,
      "metadata": {
        "execution": {
          "iopub.execute_input": "2023-03-08T07:59:17.025421Z",
          "iopub.status.busy": "2023-03-08T07:59:17.024697Z",
          "iopub.status.idle": "2023-03-08T07:59:18.636932Z",
          "shell.execute_reply": "2023-03-08T07:59:18.635857Z",
          "shell.execute_reply.started": "2023-03-08T07:59:17.025382Z"
        },
        "id": "eXDx_dnzrM5o",
        "outputId": "2c4dbf2e-01ec-41a5-a3c5-043715ca6b32",
        "trusted": true
      },
      "outputs": [],
      "source": [
        "# def visualize_images(dataset_input, dataset_type, samples, cols):\n",
        "    \n",
        "#     dataset_len = len(dataset_input)\n",
        "#     dataset = dataset_input\n",
        "    \n",
        "#     rows = samples // cols\n",
        "    \n",
        "#     fig, ax = plt.subplots(nrows = rows, ncols = cols, figsize=(12, 8))\n",
        "#     fig.suptitle(f\"========= Images for the {dataset_type.title()} set =========\", y=0.9)\n",
        "    \n",
        "#     for i in range(samples):\n",
        "#         idx = np.random.randint(0, dataset_len)\n",
        "#         image, label = dataset[idx]\n",
        "# #         image = np.expand_dim(image, axis=0)\n",
        "#         image = image.swapaxes(0, 1)\n",
        "#         image = image.swapaxes(1, 2)\n",
        "#         ax.ravel()[i].imshow(image)\n",
        "#         ax.ravel()[i].set_axis_off()\n",
        "#         ax.ravel()[i].set_title(f\"Index: {idx}, Label: {idx_to_class[label]}\")\n",
        "        \n",
        "#     plt.tight_layout(rect=[0, 0.2, 0.99, 0.975], h_pad=2.1, pad=1.7)\n",
        "#     plt.show()\n",
        "    \n",
        "# visualize_images(dataset_input=train_dataset, dataset_type=\"train\", samples=10, cols=5)\n",
        "# visualize_images(dataset_input=val_dataset, dataset_type=\"validation\", samples=10, cols=5)"
      ]
    },
    {
      "cell_type": "markdown",
      "metadata": {
        "id": "C2F0K8-_tdRT"
      },
      "source": [
        "# 4. Creating Dataloaders\n",
        "\n",
        "Creating train and valid dataloaders"
      ]
    },
    {
      "cell_type": "code",
      "execution_count": 8,
      "metadata": {
        "execution": {
          "iopub.execute_input": "2023-03-08T07:59:22.984540Z",
          "iopub.status.busy": "2023-03-08T07:59:22.983903Z",
          "iopub.status.idle": "2023-03-08T07:59:22.990798Z",
          "shell.execute_reply": "2023-03-08T07:59:22.989595Z",
          "shell.execute_reply.started": "2023-03-08T07:59:22.984500Z"
        },
        "id": "t1j40gDIrM5o",
        "trusted": true
      },
      "outputs": [],
      "source": [
        "# def make_data_loader(dataset, shuffle):\n",
        "#     loader = DataLoader(dataset, batch_size=CONFIG.BATCH_SIZE, shuffle=shuffle)\n",
        "    \n",
        "#     return loader\n",
        "\n",
        "# train_loader = make_data_loader(dataset=train_dataset, shuffle=True)\n",
        "# val_loader = make_data_loader(dataset=val_dataset, shuffle=False)"
      ]
    },
    {
      "cell_type": "markdown",
      "metadata": {},
      "source": [
        "# LOADING DATA"
      ]
    },
    {
      "cell_type": "markdown",
      "metadata": {
        "id": "OORbcZKgtogJ"
      },
      "source": [
        "Creating custom model classes that inherit from `nn.Module`"
      ]
    },
    {
      "cell_type": "code",
      "execution_count": 9,
      "metadata": {},
      "outputs": [],
      "source": [
        "# no = np.load(\"../../00_data/original_data/no.npy\")\n",
        "# sphere = np.load(\"../../00_data/original_data/sphere.npy\")\n",
        "# vortex = np.load(\"../../00_data/original_data/vortex.npy\")\n",
        "\n",
        "train_no = np.load(\"../../00_data/augumented/augmented_no.npy\")\n",
        "train_sphere = np.load(\"../../00_data/augumented/augmented_sphere.npy\")\n",
        "train_vortex = np.load(\"../../00_data/augumented/augmented_vort.npy\")"
      ]
    },
    {
      "cell_type": "code",
      "execution_count": 10,
      "metadata": {},
      "outputs": [],
      "source": [
        "train_no = np.expand_dims(train_no, axis=-1)\n",
        "train_sphere = np.expand_dims(train_sphere, axis=-1)\n",
        "train_vortex = np.expand_dims(train_vortex, axis=-1)\n"
      ]
    },
    {
      "cell_type": "code",
      "execution_count": 11,
      "metadata": {},
      "outputs": [],
      "source": [
        "val_no = np.load(\"../../00_data/validation_data/val_no.npy\")\n",
        "val_sphere = np.load(\"../../00_data/validation_data/val_sphere.npy\")\n",
        "val_vortex = np.load(\"../../00_data/validation_data/val_vortex.npy\")\n"
      ]
    },
    {
      "cell_type": "code",
      "execution_count": 12,
      "metadata": {},
      "outputs": [],
      "source": [
        "y_no = np.zeros(len(train_no))\n",
        "y_sphere = np.ones(len(train_sphere))\n",
        "y_vortex = np.full(len(train_vortex), 2)"
      ]
    },
    {
      "cell_type": "code",
      "execution_count": 13,
      "metadata": {},
      "outputs": [],
      "source": [
        "\n",
        "val_y_no = np.zeros(len(val_no))\n",
        "val_y_sphere = np.ones(len(val_sphere))\n",
        "val_y_vortex = np.full(len(val_vortex), 2)"
      ]
    },
    {
      "cell_type": "code",
      "execution_count": 14,
      "metadata": {},
      "outputs": [],
      "source": [
        "\n",
        "import torch\n",
        "import torch.nn.functional as F\n",
        "\n",
        "\n",
        "num_classes = 3\n",
        "\n",
        "y_no = F.one_hot(torch.tensor(y_no, dtype=torch.int64), num_classes=num_classes)\n",
        "y_sphere = F.one_hot(torch.tensor(y_sphere, dtype=torch.int64), num_classes=num_classes)\n",
        "y_vortex= F.one_hot(torch.tensor(y_vortex, dtype=torch.int64), num_classes=num_classes)\n"
      ]
    },
    {
      "cell_type": "code",
      "execution_count": 15,
      "metadata": {},
      "outputs": [],
      "source": [
        "val_y_no = F.one_hot(torch.tensor(val_y_no, dtype=torch.int64), num_classes=num_classes)\n",
        "val_y_sphere = F.one_hot(torch.tensor(val_y_sphere, dtype=torch.int64), num_classes=num_classes)\n",
        "val_y_vortex = F.one_hot(torch.tensor(val_y_vortex, dtype=torch.int64), num_classes=num_classes)\n"
      ]
    },
    {
      "cell_type": "code",
      "execution_count": 16,
      "metadata": {},
      "outputs": [
        {
          "data": {
            "text/plain": [
              "77"
            ]
          },
          "execution_count": 16,
          "metadata": {},
          "output_type": "execute_result"
        }
      ],
      "source": [
        "gc.collect()"
      ]
    },
    {
      "cell_type": "code",
      "execution_count": 17,
      "metadata": {},
      "outputs": [],
      "source": [
        "x_train = np.concatenate([train_no, train_sphere, train_vortex], axis=0)\n",
        "y_train = np.concatenate([y_no, y_sphere, y_vortex], axis=0)"
      ]
    },
    {
      "cell_type": "code",
      "execution_count": 18,
      "metadata": {},
      "outputs": [],
      "source": [
        "x_val = np.concatenate([val_no, val_sphere, val_vortex], axis=0)\n",
        "y_val = np.concatenate([val_y_no, val_y_sphere, val_y_vortex], axis=0)"
      ]
    },
    {
      "cell_type": "code",
      "execution_count": 19,
      "metadata": {},
      "outputs": [
        {
          "data": {
            "text/plain": [
              "0"
            ]
          },
          "execution_count": 19,
          "metadata": {},
          "output_type": "execute_result"
        }
      ],
      "source": [
        "del(train_no,train_sphere,train_vortex)\n",
        "del(val_no,val_sphere,val_vortex)\n",
        "\n",
        "\n",
        "gc.collect()\n"
      ]
    },
    {
      "cell_type": "code",
      "execution_count": 20,
      "metadata": {},
      "outputs": [],
      "source": [
        "x_train_tensor = torch.tensor(x_train, dtype=torch.float32)\n",
        "x_val_tensor = torch.tensor(x_val, dtype=torch.float32)\n",
        "\n",
        "# Permute the dimensions to [batch_size, channels, height, width]\n",
        "x_train = x_train_tensor.permute(0, 3, 1, 2)\n",
        "x_val = x_val_tensor.permute(0, 3, 1, 2)\n",
        "\n",
        "\n"
      ]
    },
    {
      "cell_type": "code",
      "execution_count": 21,
      "metadata": {},
      "outputs": [
        {
          "data": {
            "text/plain": [
              "torch.Size([150000, 1, 150, 150])"
            ]
          },
          "execution_count": 21,
          "metadata": {},
          "output_type": "execute_result"
        }
      ],
      "source": [
        "x_train.shape"
      ]
    },
    {
      "cell_type": "code",
      "execution_count": 22,
      "metadata": {},
      "outputs": [],
      "source": [
        "# from sklearn.model_selection import train_test_split\n",
        "\n",
        "# x_train, x_val, y_train, y_val = train_test_split(x_data, y_data, test_size=0.2, random_state=RANDOM_SEED, stratify=y_data)"
      ]
    },
    {
      "cell_type": "code",
      "execution_count": 28,
      "metadata": {
        "execution": {
          "iopub.execute_input": "2023-03-08T07:59:24.671909Z",
          "iopub.status.busy": "2023-03-08T07:59:24.671443Z",
          "iopub.status.idle": "2023-03-08T07:59:24.694235Z",
          "shell.execute_reply": "2023-03-08T07:59:24.692841Z",
          "shell.execute_reply.started": "2023-03-08T07:59:24.671872Z"
        },
        "id": "CYf8mvE4rM5p",
        "trusted": true
      },
      "outputs": [],
      "source": [
        "class TransferLearningModelOld(nn.Module):\n",
        "    \n",
        "    def __init__(self, n_classes):\n",
        "        super(TransferLearningModelOld, self).__init__()\n",
        "        self.transfer_learning_model = timm.create_model(CONFIG.MODEL_NAMES[0], pretrained=True, in_chans=1)\n",
        "        \n",
        "        for param in self.transfer_learning_model.parameters():\n",
        "            param.requires_grad = True\n",
        "            \n",
        "        self.classifier = nn.Sequential(\n",
        "            nn.Linear(2208 * 4 * 4, 1024),\n",
        "            nn.ReLU(),\n",
        "            nn.BatchNorm1d(1024),\n",
        "            nn.Dropout(p=0.25),\n",
        "            nn.Linear(1024, 64),\n",
        "            nn.ReLU(),\n",
        "            nn.BatchNorm1d(64),\n",
        "            nn.Dropout(p=0.25),\n",
        "            nn.Linear(64, n_classes)\n",
        "        )\n",
        "        \n",
        "    def forward(self, x):\n",
        "        x = self.transfer_learning_model.forward_features(x)\n",
        "        x = x.view(-1, 2208 * 4 * 4)\n",
        "        x = self.classifier(x)\n",
        "        \n",
        "        return x\n",
        "\n",
        "class TransferLearningModelNew(nn.Module):\n",
        "    \n",
        "    def __init__(self, n_classes):\n",
        "        super(TransferLearningModelNew, self).__init__()\n",
        "        self.transfer_learning_model = timm.create_model(CONFIG.MODEL_NAMES[0], pretrained=True, in_chans=1)\n",
        "        \n",
        "        for param in self.transfer_learning_model.parameters():\n",
        "            param.requires_grad = True\n",
        "            \n",
        "        self.classifier = nn.Sequential(\n",
        "            nn.Linear(2208 * 4 * 4, 1024),\n",
        "            nn.ReLU(),\n",
        "            nn.BatchNorm1d(1024),\n",
        "            nn.Dropout(p=0.33),\n",
        "            nn.Linear(1024, 64),\n",
        "            nn.ReLU(),\n",
        "            nn.BatchNorm1d(64),\n",
        "            nn.Dropout(p=0.33),\n",
        "            nn.Linear(64, n_classes)\n",
        "        )\n",
        "         \n",
        "    def forward(self, x):\n",
        "        x = self.transfer_learning_model.forward_features(x)\n",
        "        x = x.view(-1, 2208 * 4 * 4)\n",
        "        x = self.classifier(x)\n",
        "        \n",
        "        return x\n",
        "\n",
        "class DenseNet264(nn.Module):\n",
        "    \n",
        "    def __init__(self, n_classes):\n",
        "        super(DenseNet264, self).__init__()\n",
        "        self.transfer_learning_model = timm.create_model(\"densenet264\", pretrained=True, in_chans=1)\n",
        "        \n",
        "        for param in self.transfer_learning_model.parameters():\n",
        "            param.requires_grad = True\n",
        "            \n",
        "        self.classifier = nn.Sequential(\n",
        "            nn.Linear(1920 * 4 * 4, 1024),\n",
        "            nn.ReLU(),\n",
        "            nn.BatchNorm1d(1024),\n",
        "            nn.Dropout(p=0.33),\n",
        "            nn.Linear(1024, 64),\n",
        "            nn.ReLU(),\n",
        "            nn.BatchNorm1d(64),\n",
        "            nn.Dropout(p=0.33),\n",
        "            nn.Linear(64, n_classes)\n",
        "        )\n",
        "        \n",
        "    def forward(self, x):\n",
        "        x = self.transfer_learning_model.forward_features(x)\n",
        "#         print(x.shape)\n",
        "        x = x.view(-1, 1920 * 4 * 4)\n",
        "        x = self.classifier(x)\n",
        "        \n",
        "        return x\n",
        "    \n",
        "class MobileVitV2_150(nn.Module):\n",
        "    \n",
        "    def __init__(self, n_classes):\n",
        "        \n",
        "        super(MobileVitV2_150, self).__init__()\n",
        "        \n",
        "        self.vit_model = timm.create_model(CONFIG.MODEL_NAMES[2], pretrained=True, in_chans=1)\n",
        "        \n",
        "        for param in self.vit_model.parameters():\n",
        "            param.requires_grad = True\n",
        "            \n",
        "        self.classifier = nn.Sequential(\n",
        "            nn.Linear(768 * 6 * 6, 512),\n",
        "            nn.ReLU(),\n",
        "            nn.BatchNorm1d(512),\n",
        "            nn.Dropout(p=CONFIG.DROPOUT),\n",
        "            nn.Linear(512, 64),\n",
        "            nn.ReLU(),\n",
        "            nn.BatchNorm1d(64),\n",
        "            nn.Dropout(p=CONFIG.DROPOUT),\n",
        "            nn.Linear(64, n_classes)\n",
        "        )\n",
        "        \n",
        "    def forward(self, x):\n",
        "        x = self.vit_model.forward_features(x)\n",
        "#         print(x.shape)\n",
        "        x = x.reshape(-1, 768 * 6 * 6)\n",
        "        x = self.classifier(x)\n",
        "        \n",
        "        return x\n",
        "\n",
        "# (test performance of an ensemble)\n",
        "class DenseNetEnsemble(nn.Module):\n",
        "    \n",
        "    def __init__(self, n_classes, modela, modelb):\n",
        "        \n",
        "        super(DenseNetEnsemble, self).__init__()\n",
        "        \n",
        "        self.modela = modela\n",
        "        self.modelb = modelb\n",
        "        \n",
        "    def forward(self, x):\n",
        "        outa = self.modela(x)\n",
        "        outb = self.modelb(x)\n",
        "        out = outa + outb\n",
        "        x = out\n",
        "        \n",
        "        return x"
      ]
    },
    {
      "cell_type": "markdown",
      "metadata": {
        "id": "LyeVSxJrt_CQ"
      },
      "source": [
        "Since the latest training example was that of an ensemble model we initialize `model` as an instance of the `DenseNetEnsemble` class"
      ]
    },
    {
      "cell_type": "code",
      "execution_count": 29,
      "metadata": {
        "execution": {
          "iopub.execute_input": "2023-03-08T07:59:37.841642Z",
          "iopub.status.busy": "2023-03-08T07:59:37.841064Z",
          "iopub.status.idle": "2023-03-08T07:59:43.534310Z",
          "shell.execute_reply": "2023-03-08T07:59:43.533256Z",
          "shell.execute_reply.started": "2023-03-08T07:59:37.841605Z"
        },
        "id": "YZVIg9htrM5q",
        "outputId": "54904971-c0a2-427b-b018-ce5bd66294a3",
        "trusted": true
      },
      "outputs": [
        {
          "ename": "RuntimeError",
          "evalue": "Unknown model (densenet264)",
          "output_type": "error",
          "traceback": [
            "\u001b[0;31m---------------------------------------------------------------------------\u001b[0m",
            "\u001b[0;31mRuntimeError\u001b[0m                              Traceback (most recent call last)",
            "Cell \u001b[0;32mIn[29], line 9\u001b[0m\n\u001b[1;32m      4\u001b[0m classes \u001b[38;5;241m=\u001b[39m [\u001b[38;5;124m\"\u001b[39m\u001b[38;5;124mno\u001b[39m\u001b[38;5;124m\"\u001b[39m, \u001b[38;5;124m\"\u001b[39m\u001b[38;5;124msphere\u001b[39m\u001b[38;5;124m\"\u001b[39m, \u001b[38;5;124m\"\u001b[39m\u001b[38;5;124mvortex\u001b[39m\u001b[38;5;124m\"\u001b[39m]\n\u001b[1;32m      6\u001b[0m \u001b[38;5;66;03m# modela = TransferLearningModelNew(len(classes))\u001b[39;00m\n\u001b[1;32m      7\u001b[0m \u001b[38;5;66;03m# modela = modela.to(DEVICE)\u001b[39;00m\n\u001b[0;32m----> 9\u001b[0m modelb \u001b[38;5;241m=\u001b[39m \u001b[43mDenseNet264\u001b[49m\u001b[43m(\u001b[49m\u001b[38;5;28;43mlen\u001b[39;49m\u001b[43m(\u001b[49m\u001b[43mclasses\u001b[49m\u001b[43m)\u001b[49m\u001b[43m)\u001b[49m\n\u001b[1;32m     10\u001b[0m modelb \u001b[38;5;241m=\u001b[39m modelb\u001b[38;5;241m.\u001b[39mto(DEVICE)\n\u001b[1;32m     12\u001b[0m model \u001b[38;5;241m=\u001b[39m modelb\n",
            "Cell \u001b[0;32mIn[28], line 61\u001b[0m, in \u001b[0;36mDenseNet264.__init__\u001b[0;34m(self, n_classes)\u001b[0m\n\u001b[1;32m     59\u001b[0m \u001b[38;5;28;01mdef\u001b[39;00m \u001b[38;5;21m__init__\u001b[39m(\u001b[38;5;28mself\u001b[39m, n_classes):\n\u001b[1;32m     60\u001b[0m     \u001b[38;5;28msuper\u001b[39m(DenseNet264, \u001b[38;5;28mself\u001b[39m)\u001b[38;5;241m.\u001b[39m\u001b[38;5;21m__init__\u001b[39m()\n\u001b[0;32m---> 61\u001b[0m     \u001b[38;5;28mself\u001b[39m\u001b[38;5;241m.\u001b[39mtransfer_learning_model \u001b[38;5;241m=\u001b[39m \u001b[43mtimm\u001b[49m\u001b[38;5;241;43m.\u001b[39;49m\u001b[43mcreate_model\u001b[49m\u001b[43m(\u001b[49m\u001b[38;5;124;43m\"\u001b[39;49m\u001b[38;5;124;43mdensenet264\u001b[39;49m\u001b[38;5;124;43m\"\u001b[39;49m\u001b[43m,\u001b[49m\u001b[43m \u001b[49m\u001b[43mpretrained\u001b[49m\u001b[38;5;241;43m=\u001b[39;49m\u001b[38;5;28;43;01mTrue\u001b[39;49;00m\u001b[43m,\u001b[49m\u001b[43m \u001b[49m\u001b[43min_chans\u001b[49m\u001b[38;5;241;43m=\u001b[39;49m\u001b[38;5;241;43m1\u001b[39;49m\u001b[43m)\u001b[49m\n\u001b[1;32m     63\u001b[0m     \u001b[38;5;28;01mfor\u001b[39;00m param \u001b[38;5;129;01min\u001b[39;00m \u001b[38;5;28mself\u001b[39m\u001b[38;5;241m.\u001b[39mtransfer_learning_model\u001b[38;5;241m.\u001b[39mparameters():\n\u001b[1;32m     64\u001b[0m         param\u001b[38;5;241m.\u001b[39mrequires_grad \u001b[38;5;241m=\u001b[39m \u001b[38;5;28;01mTrue\u001b[39;00m\n",
            "File \u001b[0;32m~/anaconda3/envs/pytorch-cuda/lib/python3.12/site-packages/timm/models/_factory.py:113\u001b[0m, in \u001b[0;36mcreate_model\u001b[0;34m(model_name, pretrained, pretrained_cfg, pretrained_cfg_overlay, checkpoint_path, scriptable, exportable, no_jit, **kwargs)\u001b[0m\n\u001b[1;32m    110\u001b[0m         pretrained_cfg \u001b[38;5;241m=\u001b[39m pretrained_tag\n\u001b[1;32m    112\u001b[0m \u001b[38;5;28;01mif\u001b[39;00m \u001b[38;5;129;01mnot\u001b[39;00m is_model(model_name):\n\u001b[0;32m--> 113\u001b[0m     \u001b[38;5;28;01mraise\u001b[39;00m \u001b[38;5;167;01mRuntimeError\u001b[39;00m(\u001b[38;5;124m'\u001b[39m\u001b[38;5;124mUnknown model (\u001b[39m\u001b[38;5;132;01m%s\u001b[39;00m\u001b[38;5;124m)\u001b[39m\u001b[38;5;124m'\u001b[39m \u001b[38;5;241m%\u001b[39m model_name)\n\u001b[1;32m    115\u001b[0m create_fn \u001b[38;5;241m=\u001b[39m model_entrypoint(model_name)\n\u001b[1;32m    116\u001b[0m \u001b[38;5;28;01mwith\u001b[39;00m set_layer_config(scriptable\u001b[38;5;241m=\u001b[39mscriptable, exportable\u001b[38;5;241m=\u001b[39mexportable, no_jit\u001b[38;5;241m=\u001b[39mno_jit):\n",
            "\u001b[0;31mRuntimeError\u001b[0m: Unknown model (densenet264)"
          ]
        }
      ],
      "source": [
        "# model = MobileVitv2_150_384_in22ft1k(len(classes))\n",
        "# model = model.to(DEVICE)\n",
        "\n",
        "classes = [\"no\", \"sphere\", \"vortex\"]\n",
        "\n",
        "# modela = TransferLearningModelNew(len(classes))\n",
        "# modela = modela.to(DEVICE)\n",
        "\n",
        "modelb = DenseNet264(len(classes))\n",
        "modelb = modelb.to(DEVICE)\n",
        "\n",
        "model = modelb\n",
        "\n",
        "# model = DenseNetEnsemble(len(classes), modela, modelb)\n",
        "# model = model.to(DEVICE)\n",
        "# x = torch.randn(32,1,150,150).to(DEVICE)\n",
        "# model(x).shape"
      ]
    },
    {
      "cell_type": "markdown",
      "metadata": {
        "id": "k_MXy4vTvJuT"
      },
      "source": [
        "Trains the model for 1 epoch"
      ]
    },
    {
      "cell_type": "code",
      "execution_count": 39,
      "metadata": {
        "execution": {
          "iopub.execute_input": "2023-03-08T07:59:43.539069Z",
          "iopub.status.busy": "2023-03-08T07:59:43.536384Z",
          "iopub.status.idle": "2023-03-08T07:59:43.547645Z",
          "shell.execute_reply": "2023-03-08T07:59:43.546541Z",
          "shell.execute_reply.started": "2023-03-08T07:59:43.539025Z"
        },
        "id": "QzKfQu-nrM5q",
        "trusted": true
      },
      "outputs": [],
      "source": [
        "def train_one_epoch(model, optimizer, data_loader, device):\n",
        "    \n",
        "    model.train()\n",
        "    \n",
        "    total = 0\n",
        "    correct = 0\n",
        "    train_accuracy = []\n",
        "    train_loss = []\n",
        "    \n",
        "    for i, data in enumerate(tqdm(data_loader)):\n",
        "        images, labels = data\n",
        "        images = images.to(device)\n",
        "        labels = labels.to(device)\n",
        "        \n",
        "        y_pred = model(images.float())\n",
        "        loss = criterion(y_pred, labels)\n",
        "        \n",
        "        _, predicted = torch.max(y_pred.data, 1)\n",
        "        total += labels.size(0)\n",
        "        correct += (predicted == labels).sum().item()\n",
        "        accuracy = 100 * correct / total\n",
        "        \n",
        "        optimizer.zero_grad()\n",
        "        loss.backward()\n",
        "        optimizer.step()\n",
        "        \n",
        "        # if(i % 10 == 0):\n",
        "        #     print(f\"Loss: {loss}, Accuracy: {accuracy}\")\n",
        "        \n",
        "        train_accuracy.append(torch.tensor(accuracy))\n",
        "        train_loss.append(torch.tensor(loss))\n",
        "        \n",
        "    return train_accuracy, train_loss"
      ]
    },
    {
      "cell_type": "markdown",
      "metadata": {
        "id": "OtzS33rEvNxd"
      },
      "source": [
        "Tests the performance of the trained model"
      ]
    },
    {
      "cell_type": "code",
      "execution_count": 38,
      "metadata": {
        "execution": {
          "iopub.execute_input": "2023-03-08T07:59:43.982950Z",
          "iopub.status.busy": "2023-03-08T07:59:43.982213Z",
          "iopub.status.idle": "2023-03-08T07:59:43.994507Z",
          "shell.execute_reply": "2023-03-08T07:59:43.992867Z",
          "shell.execute_reply.started": "2023-03-08T07:59:43.982910Z"
        },
        "id": "tA_cl86crM5r",
        "trusted": true
      },
      "outputs": [],
      "source": [
        "def test_model(model, data_loader, device):\n",
        "    \n",
        "    model.eval()\n",
        "    \n",
        "    total = 0\n",
        "    correct = 0\n",
        "    val_accuracy = []\n",
        "    val_loss = []\n",
        "    \n",
        "    with torch.no_grad():\n",
        "        for i, data in enumerate(tqdm(data_loader)):\n",
        "            images, labels = data\n",
        "            \n",
        "            images = images.to(device)\n",
        "            labels = labels.to(device)\n",
        "        \n",
        "            y_pred = model(images.float())\n",
        "            loss = criterion(y_pred, labels)\n",
        "\n",
        "            _, predicted = torch.max(y_pred.data, 1)\n",
        "            total += labels.size(0)\n",
        "            correct += (predicted == labels).sum().item()\n",
        "            accuracy = 100 * correct / total\n",
        "            \n",
        "            val_accuracy.append(torch.tensor(accuracy))\n",
        "            val_loss.append(torch.tensor(loss))\n",
        "                    \n",
        "    return val_accuracy, val_loss"
      ]
    },
    {
      "cell_type": "markdown",
      "metadata": {
        "id": "A_u_nyO-vjoK"
      },
      "source": [
        "Converts tensor-lists to numpy arrays and computes the mean value"
      ]
    },
    {
      "cell_type": "code",
      "execution_count": 40,
      "metadata": {
        "execution": {
          "iopub.execute_input": "2023-03-08T07:59:44.655073Z",
          "iopub.status.busy": "2023-03-08T07:59:44.654676Z",
          "iopub.status.idle": "2023-03-08T07:59:44.660708Z",
          "shell.execute_reply": "2023-03-08T07:59:44.659346Z",
          "shell.execute_reply.started": "2023-03-08T07:59:44.655038Z"
        },
        "id": "2-gN9qwUrM5r",
        "trusted": true
      },
      "outputs": [],
      "source": [
        "def convert_tensor_list_to_single_mean_value(tensor_list):\n",
        "\n",
        "    tensor_list = [tensor.detach().cpu().numpy() for tensor in tensor_list]\n",
        "    \n",
        "    return np.mean(tensor_list)"
      ]
    },
    {
      "cell_type": "markdown",
      "metadata": {
        "id": "dt_sxgVQvtFr"
      },
      "source": [
        "Criterion and optimizer used to train the model"
      ]
    },
    {
      "cell_type": "code",
      "execution_count": 41,
      "metadata": {
        "execution": {
          "iopub.execute_input": "2023-03-08T07:59:44.986604Z",
          "iopub.status.busy": "2023-03-08T07:59:44.986255Z",
          "iopub.status.idle": "2023-03-08T07:59:45.000372Z",
          "shell.execute_reply": "2023-03-08T07:59:44.999134Z",
          "shell.execute_reply.started": "2023-03-08T07:59:44.986574Z"
        },
        "id": "Xw9-MFLQrM5r",
        "trusted": true
      },
      "outputs": [],
      "source": [
        "criterion = torch.nn.CrossEntropyLoss()\n",
        "optimizer = torch.optim.Adam(model.parameters(), lr=CONFIG.LEARNING_RATE)"
      ]
    },
    {
      "cell_type": "markdown",
      "metadata": {
        "id": "RiNcQeOrvxDl"
      },
      "source": [
        "# 5. Training the Model\n",
        "\n",
        "Cell commented out to save GPU time"
      ]
    },
    {
      "cell_type": "code",
      "execution_count": 42,
      "metadata": {},
      "outputs": [],
      "source": [
        "import torch\n",
        "from torch.utils.data import TensorDataset, DataLoader\n",
        "from collections import defaultdict\n",
        "import numpy as np\n",
        "\n",
        "# Assuming x_train, y_train, x_val, and y_val are NumPy arrays\n",
        "# Convert them to PyTorch tensors if they aren't already\n",
        "# If y_train and y_val are NumPy arrays and one-hot encoded\n",
        "y_train_labels = np.argmax(y_train, axis=1)\n",
        "y_val_labels = np.argmax(y_val, axis=1)\n",
        "\n",
        "# Convert them to PyTorch tensors\n",
        "y_train_tensor = torch.tensor(y_train_labels, dtype=torch.long)\n",
        "y_val_tensor = torch.tensor(y_val_labels, dtype=torch.long)\n",
        "\n",
        "# Then, everything else remains the same\n",
        "x_train_tensor = torch.tensor(x_train, dtype=torch.float32)\n",
        "x_val_tensor = torch.tensor(x_val, dtype=torch.float32)\n",
        "\n",
        "# Create TensorDatasets and DataLoaders\n",
        "train_dataset = TensorDataset(x_train_tensor, y_train_tensor)\n",
        "val_dataset = TensorDataset(x_val_tensor, y_val_tensor)\n",
        "\n",
        "train_loader = DataLoader(train_dataset, batch_size=CONFIG.BATCH_SIZE, shuffle=True)\n",
        "val_loader = DataLoader(val_dataset, batch_size=CONFIG.BATCH_SIZE, shuffle=False)\n",
        "\n"
      ]
    },
    {
      "cell_type": "code",
      "execution_count": 43,
      "metadata": {},
      "outputs": [
        {
          "data": {
            "text/plain": [
              "<torch.utils.data.dataloader.DataLoader at 0x7f26d685cc50>"
            ]
          },
          "execution_count": 43,
          "metadata": {},
          "output_type": "execute_result"
        }
      ],
      "source": [
        "train_loader"
      ]
    },
    {
      "cell_type": "code",
      "execution_count": 44,
      "metadata": {
        "execution": {
          "iopub.execute_input": "2023-03-07T18:39:08.131705Z",
          "iopub.status.busy": "2023-03-07T18:39:08.130998Z",
          "iopub.status.idle": "2023-03-07T18:53:54.375586Z",
          "shell.execute_reply": "2023-03-07T18:53:54.374335Z",
          "shell.execute_reply.started": "2023-03-07T18:39:08.131662Z"
        },
        "id": "9sCIfTBcrM5s",
        "trusted": true
      },
      "outputs": [
        {
          "name": "stdout",
          "output_type": "stream",
          "text": [
            "Epoch 1 / 10\n",
            "==========\n"
          ]
        },
        {
          "name": "stderr",
          "output_type": "stream",
          "text": [
            "100%|██████████| 4688/4688 [05:35<00:00, 13.96it/s]\n"
          ]
        },
        {
          "name": "stdout",
          "output_type": "stream",
          "text": [
            "Train loss: 0.25798529386520386\n",
            "Train accuracy: 90.06790161132812\n",
            "\n"
          ]
        },
        {
          "name": "stderr",
          "output_type": "stream",
          "text": [
            "100%|██████████| 235/235 [00:03<00:00, 66.07it/s]\n"
          ]
        },
        {
          "name": "stdout",
          "output_type": "stream",
          "text": [
            "Val loss: 0.20926448702812195\n",
            "Val accuracy: 95.52152252197266\n",
            "\n",
            "Epoch 2 / 10\n",
            "==========\n"
          ]
        },
        {
          "name": "stderr",
          "output_type": "stream",
          "text": [
            "100%|██████████| 4688/4688 [05:42<00:00, 13.70it/s]\n"
          ]
        },
        {
          "name": "stdout",
          "output_type": "stream",
          "text": [
            "Train loss: 0.1908077746629715\n",
            "Train accuracy: 93.19293975830078\n",
            "\n"
          ]
        },
        {
          "name": "stderr",
          "output_type": "stream",
          "text": [
            "100%|██████████| 235/235 [00:03<00:00, 68.28it/s]\n"
          ]
        },
        {
          "name": "stdout",
          "output_type": "stream",
          "text": [
            "Val loss: 0.19337552785873413\n",
            "Val accuracy: 96.19132995605469\n",
            "\n",
            "Epoch 3 / 10\n",
            "==========\n"
          ]
        },
        {
          "name": "stderr",
          "output_type": "stream",
          "text": [
            "100%|██████████| 4688/4688 [05:41<00:00, 13.71it/s]\n"
          ]
        },
        {
          "name": "stdout",
          "output_type": "stream",
          "text": [
            "Train loss: 0.1591077744960785\n",
            "Train accuracy: 94.6353759765625\n",
            "\n"
          ]
        },
        {
          "name": "stderr",
          "output_type": "stream",
          "text": [
            "100%|██████████| 235/235 [00:03<00:00, 68.87it/s]\n"
          ]
        },
        {
          "name": "stdout",
          "output_type": "stream",
          "text": [
            "Val loss: 0.15934446454048157\n",
            "Val accuracy: 95.99308776855469\n",
            "\n",
            "Epoch 4 / 10\n",
            "==========\n"
          ]
        },
        {
          "name": "stderr",
          "output_type": "stream",
          "text": [
            "100%|██████████| 4688/4688 [05:42<00:00, 13.70it/s]\n"
          ]
        },
        {
          "name": "stdout",
          "output_type": "stream",
          "text": [
            "Train loss: 0.13745099306106567\n",
            "Train accuracy: 95.30917358398438\n",
            "\n"
          ]
        },
        {
          "name": "stderr",
          "output_type": "stream",
          "text": [
            "100%|██████████| 235/235 [00:03<00:00, 67.91it/s]\n"
          ]
        },
        {
          "name": "stdout",
          "output_type": "stream",
          "text": [
            "Val loss: 0.14808741211891174\n",
            "Val accuracy: 96.50961303710938\n",
            "\n",
            "Epoch 5 / 10\n",
            "==========\n"
          ]
        },
        {
          "name": "stderr",
          "output_type": "stream",
          "text": [
            "100%|██████████| 4688/4688 [05:38<00:00, 13.84it/s]\n"
          ]
        },
        {
          "name": "stdout",
          "output_type": "stream",
          "text": [
            "Train loss: 0.1210901066660881\n",
            "Train accuracy: 95.98408508300781\n",
            "\n"
          ]
        },
        {
          "name": "stderr",
          "output_type": "stream",
          "text": [
            "100%|██████████| 235/235 [00:03<00:00, 68.68it/s]\n"
          ]
        },
        {
          "name": "stdout",
          "output_type": "stream",
          "text": [
            "Val loss: 0.14172814786434174\n",
            "Val accuracy: 95.90254211425781\n",
            "\n",
            "Epoch 6 / 10\n",
            "==========\n"
          ]
        },
        {
          "name": "stderr",
          "output_type": "stream",
          "text": [
            "100%|██████████| 4688/4688 [05:34<00:00, 14.00it/s]\n"
          ]
        },
        {
          "name": "stdout",
          "output_type": "stream",
          "text": [
            "Train loss: 0.10736416280269623\n",
            "Train accuracy: 96.4769058227539\n",
            "\n"
          ]
        },
        {
          "name": "stderr",
          "output_type": "stream",
          "text": [
            "100%|██████████| 235/235 [00:03<00:00, 68.59it/s]\n"
          ]
        },
        {
          "name": "stdout",
          "output_type": "stream",
          "text": [
            "Val loss: 0.17007218301296234\n",
            "Val accuracy: 96.38410186767578\n",
            "\n",
            "Epoch 7 / 10\n",
            "==========\n"
          ]
        },
        {
          "name": "stderr",
          "output_type": "stream",
          "text": [
            "100%|██████████| 4688/4688 [05:36<00:00, 13.94it/s]\n"
          ]
        },
        {
          "name": "stdout",
          "output_type": "stream",
          "text": [
            "Train loss: 0.09692396968603134\n",
            "Train accuracy: 96.84335327148438\n",
            "\n"
          ]
        },
        {
          "name": "stderr",
          "output_type": "stream",
          "text": [
            "100%|██████████| 235/235 [00:03<00:00, 68.24it/s]\n"
          ]
        },
        {
          "name": "stdout",
          "output_type": "stream",
          "text": [
            "Val loss: 0.14711348712444305\n",
            "Val accuracy: 95.07441711425781\n",
            "\n",
            "Epoch 8 / 10\n",
            "==========\n"
          ]
        },
        {
          "name": "stderr",
          "output_type": "stream",
          "text": [
            "100%|██████████| 4688/4688 [05:35<00:00, 13.98it/s]\n"
          ]
        },
        {
          "name": "stdout",
          "output_type": "stream",
          "text": [
            "Train loss: 0.08649846911430359\n",
            "Train accuracy: 97.14102172851562\n",
            "\n"
          ]
        },
        {
          "name": "stderr",
          "output_type": "stream",
          "text": [
            "100%|██████████| 235/235 [00:03<00:00, 68.96it/s]\n"
          ]
        },
        {
          "name": "stdout",
          "output_type": "stream",
          "text": [
            "Val loss: 0.13467863202095032\n",
            "Val accuracy: 96.81798553466797\n",
            "\n",
            "Epoch 9 / 10\n",
            "==========\n"
          ]
        },
        {
          "name": "stderr",
          "output_type": "stream",
          "text": [
            "100%|██████████| 4688/4688 [05:36<00:00, 13.93it/s]\n"
          ]
        },
        {
          "name": "stdout",
          "output_type": "stream",
          "text": [
            "Train loss: 0.0780496746301651\n",
            "Train accuracy: 97.52978515625\n",
            "\n"
          ]
        },
        {
          "name": "stderr",
          "output_type": "stream",
          "text": [
            "100%|██████████| 235/235 [00:03<00:00, 69.18it/s]\n"
          ]
        },
        {
          "name": "stdout",
          "output_type": "stream",
          "text": [
            "Val loss: 0.14419876039028168\n",
            "Val accuracy: 96.59703826904297\n",
            "\n",
            "Epoch 10 / 10\n",
            "==========\n"
          ]
        },
        {
          "name": "stderr",
          "output_type": "stream",
          "text": [
            "100%|██████████| 4688/4688 [05:34<00:00, 14.00it/s]\n"
          ]
        },
        {
          "name": "stdout",
          "output_type": "stream",
          "text": [
            "Train loss: 0.06976909190416336\n",
            "Train accuracy: 97.8835220336914\n",
            "\n"
          ]
        },
        {
          "name": "stderr",
          "output_type": "stream",
          "text": [
            "100%|██████████| 235/235 [00:03<00:00, 69.14it/s]"
          ]
        },
        {
          "name": "stdout",
          "output_type": "stream",
          "text": [
            "Val loss: 0.15178994834423065\n",
            "Val accuracy: 96.67733764648438\n",
            "\n"
          ]
        },
        {
          "name": "stderr",
          "output_type": "stream",
          "text": [
            "\n"
          ]
        }
      ],
      "source": [
        "# %%time\n",
        "\n",
        "history = defaultdict(list)\n",
        "best_accuracy = 0\n",
        "model_name = \"ensemble\"\n",
        "\n",
        "for epoch in range(CONFIG.EPOCHS):\n",
        "    print(f\"Epoch {epoch + 1} / {CONFIG.EPOCHS}\")\n",
        "    print('=' * 10)\n",
        "    \n",
        "    train_accuracy, train_loss = train_one_epoch(model=model, optimizer=optimizer, data_loader=train_loader, device=DEVICE)\n",
        "    train_accuracy = convert_tensor_list_to_single_mean_value(tensor_list=train_accuracy)\n",
        "    train_loss = convert_tensor_list_to_single_mean_value(tensor_list=train_loss)\n",
        "    print(f'Train loss: {train_loss}\\nTrain accuracy: {train_accuracy}\\n')\n",
        "    \n",
        "    val_accuracy, val_loss = test_model(model=model, data_loader=val_loader, device=DEVICE)\n",
        "    val_accuracy = convert_tensor_list_to_single_mean_value(tensor_list=val_accuracy)\n",
        "    val_loss = convert_tensor_list_to_single_mean_value(tensor_list=val_loss)\n",
        "    print(f'Val loss: {val_loss}\\nVal accuracy: {val_accuracy}\\n')\n",
        "    \n",
        "    history['train_acc'].append(train_accuracy)\n",
        "    history['train_loss'].append(train_loss)\n",
        "    history['val_acc'].append(val_accuracy)\n",
        "    history['val_loss'].append(val_loss) \n",
        "    \n",
        "    if(val_accuracy > best_accuracy):\n",
        "        torch.save(model.state_dict(), \n",
        "                   f'{model_name}_epochs_{CONFIG.EPOCHS}_batchsize_{CONFIG.BATCH_SIZE}_lr_{CONFIG.LEARNING_RATE}.bin')\n",
        "        best_accuracy = val_accuracy"
      ]
    },
    {
      "cell_type": "markdown",
      "metadata": {
        "id": "CrkQwTaPv0R5"
      },
      "source": [
        "# 6. Visualizing Model Performance of a trained model\n"
      ]
    },
    {
      "cell_type": "code",
      "execution_count": 45,
      "metadata": {
        "execution": {
          "iopub.execute_input": "2023-03-07T18:54:02.298607Z",
          "iopub.status.busy": "2023-03-07T18:54:02.298183Z",
          "iopub.status.idle": "2023-03-07T18:54:02.777930Z",
          "shell.execute_reply": "2023-03-07T18:54:02.776561Z",
          "shell.execute_reply.started": "2023-03-07T18:54:02.298572Z"
        },
        "id": "JB1F8cParM5s",
        "trusted": true
      },
      "outputs": [
        {
          "data": {
            "image/png": "[encoded data removed]",
            "text/plain": [
              "<Figure size 640x480 with 1 Axes>"
            ]
          },
          "metadata": {},
          "output_type": "display_data"
        },
        {
          "data": {
            "image/png": "[encoded data removed]",
            "text/plain": [
              "<Figure size 640x480 with 1 Axes>"
            ]
          },
          "metadata": {},
          "output_type": "display_data"
        }
      ],
      "source": [
        "def generate_acc_loss_plots(history):\n",
        "    \n",
        "    ax = plt.figure().gca()\n",
        "    plt.plot(history['train_acc'], label='train accuracy')\n",
        "    plt.plot(history['val_acc'], label='validation accuracy')\n",
        "    plt.title('Model Accuracy')\n",
        "    plt.ylabel('Accuracy')\n",
        "    plt.xlabel('Epoch')\n",
        "    plt.legend()\n",
        "    plt.show()\n",
        "    \n",
        "    ax = plt.figure().gca()\n",
        "    ax.xaxis.set_major_locator(MaxNLocator(integer=True))\n",
        "    plt.plot(history['train_loss'], label='Training Loss')\n",
        "    plt.plot(history['val_loss'], label='Validation Loss')\n",
        "    plt.title('Model Loss')\n",
        "    plt.ylabel('Loss')\n",
        "    plt.xlabel('Epoch')\n",
        "    plt.legend()\n",
        "    plt.ylim([0, 1])\n",
        "    plt.show()\n",
        "    \n",
        "generate_acc_loss_plots(history)"
      ]
    },
    {
      "cell_type": "markdown",
      "metadata": {
        "id": "kTM7zAY6v4w8"
      },
      "source": [
        "Reduce memory usage by deleting all redundant variables"
      ]
    },
    {
      "cell_type": "code",
      "execution_count": null,
      "metadata": {
        "execution": {
          "iopub.execute_input": "2023-03-07T18:54:03.833559Z",
          "iopub.status.busy": "2023-03-07T18:54:03.832212Z",
          "iopub.status.idle": "2023-03-07T18:54:04.114688Z",
          "shell.execute_reply": "2023-03-07T18:54:04.113460Z",
          "shell.execute_reply.started": "2023-03-07T18:54:03.833509Z"
        },
        "id": "EjMi1xjjrM5s",
        "trusted": true
      },
      "outputs": [],
      "source": [
        "# del model, train_loader, history\n",
        "# gc.collect()"
      ]
    },
    {
      "cell_type": "markdown",
      "metadata": {
        "id": "P7bQMdeNv-4Q"
      },
      "source": [
        "Loading all the previously trained models. In case evaluation is to be done for a single model, all the lines need to be commented out, except for the last 3. Otherwise, all the models trained will be loaded."
      ]
    },
    {
      "cell_type": "code",
      "execution_count": 47,
      "metadata": {
        "execution": {
          "iopub.execute_input": "2023-03-08T07:59:50.434269Z",
          "iopub.status.busy": "2023-03-08T07:59:50.433327Z",
          "iopub.status.idle": "2023-03-08T08:00:18.644752Z",
          "shell.execute_reply": "2023-03-08T08:00:18.643759Z",
          "shell.execute_reply.started": "2023-03-08T07:59:50.434212Z"
        },
        "id": "ZoOktjvNrM5t",
        "outputId": "3e8e563a-51f6-4ad5-bcb6-6105ade64c97",
        "trusted": true
      },
      "outputs": [
        {
          "data": {
            "text/plain": [
              "<All keys matched successfully>"
            ]
          },
          "execution_count": 47,
          "metadata": {},
          "output_type": "execute_result"
        }
      ],
      "source": [
        "# model1 = TransferLearningModelOld(len(classes))\n",
        "# model1 = model1.to(DEVICE)\n",
        "# model1.load_state_dict(torch.load('/kaggle/input/gsoc-task-1-models/densenet161_epochs_2_batchsize_64_lr_0.0001.bin'))\n",
        "\n",
        "# model2 = TransferLearningModelOld(len(classes))\n",
        "# model2 = model2.to(DEVICE)\n",
        "# model2.load_state_dict(torch.load('/kaggle/input/gsoc-task-1-models/densenet161_epochs_6_batchsize_64_lr_0.0001.bin'))\n",
        "\n",
        "# model3 = TransferLearningModelNew(len(classes))\n",
        "# model3 = model3.to(DEVICE)\n",
        "# model3.load_state_dict(torch.load(f'/kaggle/input/gsoc-task-1-models/densenet161_epochs_15_batchsize_64_lr_0.0001.bin'))\n",
        "\n",
        "# model4 = MobileVitV2_150(len(classes))\n",
        "# model4 = model4.to(DEVICE)\n",
        "# model4.load_state_dict(torch.load('/kaggle/input/gsoc-task-1-models/mobilevitv2_150_epochs_15_batchsize_32_lr_0.0001.bin'))\n",
        "\n",
        "model = DenseNet201(len(classes))\n",
        "model = model.to(DEVICE)\n",
        "model.load_state_dict(torch.load('densenet201_epochs_10_batchsize_32_lr_0.0001.bin'))\n",
        "\n",
        "# model6 = DenseNetEnsemble(len(classes),\n",
        "#                           TransferLearningModelNew(len(classes)).to(DEVICE),\n",
        "#                           DenseNet201(len(classes)).to(DEVICE)\n",
        "#                          )\n",
        "# model6 = model6.to(DEVICE)\n",
        "# model6.load_state_dict(torch.load('/kaggle/input/gsoc-task-1-models/ensemble_epochs_10_batchsize_32_lr_0.0001.bin'))\n",
        "\n",
        "# model = DenseNetEnsemble(len(classes), modela, modelb)\n",
        "# model = model.to(DEVICE)\n",
        "# model.load_state_dict(torch.load(f'/kaggle/working/{model_name}_epochs_{CONFIG.EPOCHS}_batchsize_{CONFIG.BATCH_SIZE}_lr_{CONFIG.LEARNING_RATE}.bin'))"
      ]
    },
    {
      "cell_type": "markdown",
      "metadata": {
        "id": "U-SuzOPnwZrP"
      },
      "source": [
        "# 7. Model Predictions"
      ]
    },
    {
      "cell_type": "code",
      "execution_count": 55,
      "metadata": {
        "execution": {
          "iopub.execute_input": "2023-03-08T08:00:20.872499Z",
          "iopub.status.busy": "2023-03-08T08:00:20.871916Z",
          "iopub.status.idle": "2023-03-08T08:03:38.576595Z",
          "shell.execute_reply": "2023-03-08T08:03:38.575464Z",
          "shell.execute_reply.started": "2023-03-08T08:00:20.872456Z"
        },
        "id": "tcOzK4kgrM5t",
        "outputId": "f867d855-c5f8-4db7-e45f-58e0b2d1f429",
        "trusted": true
      },
      "outputs": [
        {
          "name": "stderr",
          "output_type": "stream",
          "text": [
            "100%|██████████| 235/235 [00:03<00:00, 63.31it/s]\n"
          ]
        }
      ],
      "source": [
        "def get_model_predictions(model, data_loader, device):\n",
        "    \n",
        "    model.eval()\n",
        "    \n",
        "    total = 0\n",
        "    correct = 0\n",
        "    val_accuracy = []\n",
        "    val_loss = []\n",
        "    y_test_all = []\n",
        "    y_pred_all = []\n",
        "    y_pred_prob_all = []\n",
        "    \n",
        "    with torch.no_grad():\n",
        "        for i, data in enumerate(tqdm(data_loader)):\n",
        "            images, labels = data\n",
        "            \n",
        "            images = images.to(device)\n",
        "            labels = labels.to(device)\n",
        "            y_test_all.append(labels)\n",
        "        \n",
        "            y_pred = model(images.float())\n",
        "#             print(\"y_pred:\", y_pred, y_pred.shape)\n",
        "            prob = nnf.softmax(y_pred, dim=1)\n",
        "#             print(\"prob:\", prob, prob.shape)\n",
        "            loss = criterion(y_pred, labels)\n",
        "\n",
        "            _, predicted = torch.max(y_pred.data, 1)\n",
        "#             print(\"predicted\", predicted, predicted.shape)\n",
        "            y_pred_prob_all.append(prob)\n",
        "            y_pred_all.append(predicted)\n",
        "            total += labels.size(0)\n",
        "            correct += (predicted == labels).sum().item()\n",
        "            accuracy = 100 * correct / total\n",
        "            \n",
        "            val_accuracy.append(torch.tensor(accuracy))\n",
        "            val_loss.append(torch.tensor(loss))\n",
        "                    \n",
        "    return val_accuracy, val_loss, y_test_all, y_pred_all, y_pred_prob_all\n",
        "\n",
        "# test_accuracy1, test_loss1, y_test1, y_pred1, y_pred_prob1 = get_model_predictions(model=model1, data_loader=val_loader, device=DEVICE)\n",
        "# test_accuracy2, test_loss2, y_test2, y_pred2, y_pred_prob2 = get_model_predictions(model=model2, data_loader=val_loader, device=DEVICE)\n",
        "# test_accuracy3, test_loss3, y_test3, y_pred3, y_pred_prob3 = get_model_predictions(model=model3, data_loader=val_loader, device=DEVICE)\n",
        "# test_accuracy4, test_loss4, y_test4, y_pred4, y_pred_prob4 = get_model_predictions(model=model4, data_loader=val_loader, device=DEVICE)\n",
        "# test_accuracy5, test_loss5, y_test5, y_pred5, y_pred_prob5 = get_model_predictions(model=model5, data_loader=val_loader, device=DEVICE)\n",
        "# test_accuracy6, test_loss6, y_test6, y_pred6, y_pred_prob6 = get_model_predictions(model=model6, data_loader=val_loader, device=DEVICE)\n",
        "test_accuracy, test_loss, y_test, y_pred, y_pred_prob = get_model_predictions(model=model, data_loader=val_loader, device=DEVICE)"
      ]
    },
    {
      "cell_type": "markdown",
      "metadata": {
        "id": "pQ8W7gYtwfMU"
      },
      "source": [
        "Flattens the `y_test` and `y_pred` arrays"
      ]
    },
    {
      "cell_type": "code",
      "execution_count": 56,
      "metadata": {
        "execution": {
          "iopub.execute_input": "2023-03-08T08:03:40.229094Z",
          "iopub.status.busy": "2023-03-08T08:03:40.228165Z",
          "iopub.status.idle": "2023-03-08T08:03:40.313999Z",
          "shell.execute_reply": "2023-03-08T08:03:40.312593Z",
          "shell.execute_reply.started": "2023-03-08T08:03:40.229039Z"
        },
        "id": "1bv1KYfhrM5u",
        "trusted": true
      },
      "outputs": [],
      "source": [
        "def get_flat_arrays(arrays):\n",
        "    arrays = [tensor.detach().cpu().numpy() for tensor in arrays]\n",
        "    arrays = np.concatenate(arrays)\n",
        "    arrays = arrays.ravel()\n",
        "    \n",
        "    return arrays\n",
        "    \n",
        "# y_test1 = get_flat_arrays(arrays=y_test1)\n",
        "# y_pred1 = get_flat_arrays(arrays=y_pred1)\n",
        "\n",
        "# y_test2 = get_flat_arrays(arrays=y_test2)\n",
        "# y_pred2 = get_flat_arrays(arrays=y_pred2)\n",
        "\n",
        "# y_test3 = get_flat_arrays(arrays=y_test3)\n",
        "# y_pred3 = get_flat_arrays(arrays=y_pred3)\n",
        "\n",
        "# y_test4 = get_flat_arrays(arrays=y_test4)\n",
        "# y_pred4 = get_flat_arrays(arrays=y_pred4)\n",
        "\n",
        "# y_test5 = get_flat_arrays(arrays=y_test5)\n",
        "# y_pred5 = get_flat_arrays(arrays=y_pred5)\n",
        "\n",
        "# y_test6 = get_flat_arrays(arrays=y_test6)\n",
        "# y_pred6 = get_flat_arrays(arrays=y_pred6)\n",
        "\n",
        "y_test = get_flat_arrays(arrays=y_test)\n",
        "y_pred = get_flat_arrays(arrays=y_pred)"
      ]
    },
    {
      "cell_type": "markdown",
      "metadata": {
        "id": "3PvhlrElwnyV"
      },
      "source": [
        "# 8. Classification Reports and Confusion Matrices\n",
        "\n",
        "Gives a better understanding about the performance of the models"
      ]
    },
    {
      "cell_type": "code",
      "execution_count": 57,
      "metadata": {
        "execution": {
          "iopub.execute_input": "2023-03-08T08:03:41.737119Z",
          "iopub.status.busy": "2023-03-08T08:03:41.736415Z",
          "iopub.status.idle": "2023-03-08T08:03:43.323244Z",
          "shell.execute_reply": "2023-03-08T08:03:43.322169Z",
          "shell.execute_reply.started": "2023-03-08T08:03:41.737078Z"
        },
        "id": "KX7t_aYerM5u",
        "outputId": "253afd15-8057-4d53-921e-b5d286d4a40d",
        "trusted": true
      },
      "outputs": [
        {
          "name": "stdout",
          "output_type": "stream",
          "text": [
            "========== For DenseNet201_Epochs_10 ==========\n",
            "\n",
            "Classification Report:\n",
            "              precision    recall  f1-score   support\n",
            "\n",
            "           0       0.93      0.99      0.96      2500\n",
            "           1       0.97      0.91      0.94      2500\n",
            "           2       0.97      0.96      0.97      2500\n",
            "\n",
            "    accuracy                           0.95      7500\n",
            "   macro avg       0.96      0.95      0.95      7500\n",
            "weighted avg       0.96      0.95      0.95      7500\n",
            "\n",
            "\n",
            "\n",
            "F1 Score: 0.954657729906558\n",
            "Precision: 0.9555932246478829\n",
            "Recall: 0.9548\n",
            "\n",
            "\n"
          ]
        },
        {
          "data": {
            "image/png": "[encoded data removed]",
            "text/plain": [
              "<Figure size 800x500 with 2 Axes>"
            ]
          },
          "metadata": {},
          "output_type": "display_data"
        },
        {
          "name": "stdout",
          "output_type": "stream",
          "text": [
            "\n",
            "\n"
          ]
        }
      ],
      "source": [
        "def get_model_classification_report_and_confusion_matrix(model_name, y_test, y_pred):\n",
        "    \n",
        "    print(\"=\" * 10, f\"For {model_name}\", \"=\" * 10)\n",
        "    print(\"\\nClassification Report:\")\n",
        "    print(classification_report(y_test, y_pred))\n",
        "    print(\"\\n\")\n",
        "    print(f\"F1 Score: {f1_score(y_test, y_pred, average = 'weighted')}\")\n",
        "    print(f\"Precision: {precision_score(y_test, y_pred, average = 'weighted')}\")\n",
        "    print(f\"Recall: {recall_score(y_test, y_pred, average = 'weighted')}\")\n",
        "    print(\"\\n\")\n",
        "    plt.figure(figsize = (8, 5))\n",
        "    ax = plt.axes()\n",
        "    ax = sns.heatmap(confusion_matrix(y_test, y_pred), annot = True, square = True, fmt = \"d\", cmap = \"Blues\", cbar = True, annot_kws={'size': 15})\n",
        "    ax.xaxis.set_tick_params(labelsize = 10)\n",
        "    ax.yaxis.set_tick_params(labelsize = 10)\n",
        "    plt.title(f\"Confusion Matrix ({model_name})\", fontsize = 15)\n",
        "    plt.ylabel(\"Actual Classes\", fontsize = 15)\n",
        "    plt.xlabel(\"Predicted Classes\", fontsize = 15)\n",
        "    plt.show()\n",
        "    print(\"\\n\")\n",
        "    \n",
        "# get_model_classification_report_and_confusion_matrix(\"DenseNet161_Epochs_2\", y_test1, y_pred1)\n",
        "# get_model_classification_report_and_confusion_matrix(\"DenseNet161_Epochs_6\", y_test2, y_pred2)\n",
        "# get_model_classification_report_and_confusion_matrix(\"DenseNet161_Epochs_15\", y_test3, y_pred3)\n",
        "# get_model_classification_report_and_confusion_matrix(\"MobileVitV2_150_Epochs_15\", y_test4, y_pred4)\n",
        "# get_model_classification_report_and_confusion_matrix(\"DenseNet201_Epochs_15\", y_test5, y_pred5)\n",
        "# get_model_classification_report_and_confusion_matrix(\"Ensemble_DenseNet161_DenseNet201_Epochs_10\", y_test6, y_pred6)\n",
        "get_model_classification_report_and_confusion_matrix(\"DenseNet201_Epochs_10\", y_test, y_pred)\n"
      ]
    },
    {
      "cell_type": "markdown",
      "metadata": {
        "id": "S8-czCyzw1su"
      },
      "source": [
        "One-hot encoding the arrays"
      ]
    },
    {
      "cell_type": "code",
      "execution_count": 58,
      "metadata": {
        "execution": {
          "iopub.execute_input": "2023-03-08T08:04:15.582909Z",
          "iopub.status.busy": "2023-03-08T08:04:15.582299Z",
          "iopub.status.idle": "2023-03-08T08:04:15.594268Z",
          "shell.execute_reply": "2023-03-08T08:04:15.593087Z",
          "shell.execute_reply.started": "2023-03-08T08:04:15.582872Z"
        },
        "id": "6Ye5zO77rM5v",
        "trusted": true
      },
      "outputs": [],
      "source": [
        "def one_hot_encode_array(array, num_classes):\n",
        "    \n",
        "    return np.squeeze(np.eye(num_classes)[array.reshape(-1)])\n",
        "\n",
        "# y_test1 = one_hot_encode_array(array=y_test1, num_classes=len(classes))\n",
        "# y_pred1 = one_hot_encode_array(array=y_pred1, num_classes=len(classes))\n",
        "\n",
        "# y_test2 = one_hot_encode_array(array=y_test2, num_classes=len(classes))\n",
        "# y_pred2 = one_hot_encode_array(array=y_pred2, num_classes=len(classes))\n",
        "\n",
        "# y_test3 = one_hot_encode_array(array=y_test3, num_classes=len(classes))\n",
        "# y_pred3 = one_hot_encode_array(array=y_pred3, num_classes=len(classes))\n",
        "\n",
        "# y_test4 = one_hot_encode_array(array=y_test4, num_classes=len(classes))\n",
        "# y_pred4 = one_hot_encode_array(array=y_pred4, num_classes=len(classes))\n",
        "\n",
        "# y_test5 = one_hot_encode_array(array=y_test5, num_classes=len(classes))\n",
        "# y_pred5 = one_hot_encode_array(array=y_pred5, num_classes=len(classes))\n",
        "\n",
        "# y_test6 = one_hot_encode_array(array=y_test6, num_classes=len(classes))\n",
        "# y_pred6 = one_hot_encode_array(array=y_pred6, num_classes=len(classes))\n",
        "\n",
        "y_test = one_hot_encode_array(array=y_test, num_classes=len(classes))\n",
        "y_pred = one_hot_encode_array(array=y_pred, num_classes=len(classes))"
      ]
    },
    {
      "cell_type": "markdown",
      "metadata": {
        "id": "4GWv1H06w5zp"
      },
      "source": [
        "Converting the `y_pred_prob` array into the required format."
      ]
    },
    {
      "cell_type": "code",
      "execution_count": 61,
      "metadata": {
        "execution": {
          "iopub.execute_input": "2023-03-08T08:04:23.949600Z",
          "iopub.status.busy": "2023-03-08T08:04:23.948630Z",
          "iopub.status.idle": "2023-03-08T08:04:25.215590Z",
          "shell.execute_reply": "2023-03-08T08:04:25.214542Z",
          "shell.execute_reply.started": "2023-03-08T08:04:23.949542Z"
        },
        "id": "fPA3g-_PrM5v",
        "trusted": true
      },
      "outputs": [],
      "source": [
        "def get_flattened_array(array):\n",
        "    \n",
        "    flattened_array = []\n",
        "    \n",
        "    for row in array:\n",
        "        for col in row:\n",
        "            flattened_array.append(col)\n",
        "            \n",
        "    return flattened_array\n",
        "\n",
        "def get_required_array_format(array):\n",
        "    \n",
        "    array = get_flattened_array(array)\n",
        "    array = [tensor.detach().cpu().numpy() for tensor in array]\n",
        "    array = np.array(array)\n",
        "    \n",
        "    return array\n",
        "\n",
        "\n",
        "# y_pred_prob1 = get_required_array_format(y_pred_prob1)\n",
        "# y_pred_prob2 = get_required_array_format(y_pred_prob2)\n",
        "# y_pred_prob3 = get_required_array_format(y_pred_prob3)\n",
        "# y_pred_prob4 = get_required_array_format(y_pred_prob4)\n",
        "# y_pred_prob5 = get_required_array_format(y_pred_prob5)\n",
        "# y_pred_prob6 = get_required_array_format(y_pred_prob6)\n",
        "y_pred_prob = get_required_array_format(y_pred_prob)"
      ]
    },
    {
      "cell_type": "markdown",
      "metadata": {
        "id": "Qz5fkF8sxL_j"
      },
      "source": [
        "# 9. ROC-AUC Curves of the trained models"
      ]
    },
    {
      "cell_type": "code",
      "execution_count": 62,
      "metadata": {
        "execution": {
          "iopub.execute_input": "2023-03-08T08:05:24.244020Z",
          "iopub.status.busy": "2023-03-08T08:05:24.243430Z",
          "iopub.status.idle": "2023-03-08T08:05:25.778685Z",
          "shell.execute_reply": "2023-03-08T08:05:25.777731Z",
          "shell.execute_reply.started": "2023-03-08T08:05:24.243977Z"
        },
        "id": "eOBRmPqSrM5v",
        "outputId": "0cb960af-bc04-4af8-b152-e07556b7f400",
        "trusted": true
      },
      "outputs": [
        {
          "data": {
            "image/png": "[encoded data removed]",
            "text/plain": [
              "<Figure size 640x480 with 1 Axes>"
            ]
          },
          "metadata": {},
          "output_type": "display_data"
        }
      ],
      "source": [
        "def plot_auc_score_and_multiclass_roc_curves(y_test, y_pred_prob, model_name):\n",
        "\n",
        "    fpr = dict()\n",
        "    tpr = dict()\n",
        "    roc_auc = dict()\n",
        "    n_classes = len(classes)\n",
        "\n",
        "    for i in range(n_classes):\n",
        "        fpr[i], tpr[i], _ = roc_curve(y_test[:, i], y_pred_prob[:, i], )\n",
        "        roc_auc[i] = auc(fpr[i], tpr[i])\n",
        "\n",
        "    plt.figure()\n",
        "    lw = 2\n",
        "    for i in range(len(classes)):\n",
        "        plt.plot(fpr[i], tpr[i], lw=lw, label='ROC curve (area = %0.2f)' % roc_auc[i])\n",
        "    plt.plot([0, 1], [0, 1], color='red', lw=lw, linestyle='--')\n",
        "    plt.xlim([0.0, 1.0])\n",
        "    plt.ylim([0.0, 1.05])\n",
        "    plt.xlabel('False Positive Rate')\n",
        "    plt.ylabel('True Positive Rate')\n",
        "    plt.title(f'Multiclass ROC Curves ({model_name})')\n",
        "    plt.legend(loc=\"lower right\")\n",
        "    plt.show()\n",
        "    \n",
        "# plot_auc_score_and_multiclass_roc_curves(y_test1, y_pred_prob1, \"DenseNet161_Epochs_2\")\n",
        "# plot_auc_score_and_multiclass_roc_curves(y_test2, y_pred_prob2, \"DenseNet161_Epochs_6\")\n",
        "# plot_auc_score_and_multiclass_roc_curves(y_test3, y_pred_prob3, \"DenseNet161_Epochs_15\")\n",
        "# plot_auc_score_and_multiclass_roc_curves(y_test4, y_pred_prob4, \"MobileVitV2_150_Epochs_15\")\n",
        "# plot_auc_score_and_multiclass_roc_curves(y_test5, y_pred_prob5, \"DenseNet201_Epochs_15\")\n",
        "# plot_auc_score_and_multiclass_roc_curves(y_test6, y_pred_prob6, \"Ensemble_DenseNet161_DenseNet201_Epochs_10\")\n",
        "plot_auc_score_and_multiclass_roc_curves(y_test, y_pred_prob, \"Ensemble_DenseNet161_DenseNet201_Epochs_10\")\n",
        "\n",
        "# combined_y_test = np.add(np.add(np.add(y_test1, y_test2), y_test3), np.add(np.add(y_test4, y_test5), y_test6)) / 6\n",
        "# combined_y_pred_prob = np.add(np.add(np.add(y_pred_prob1, y_pred_prob2), y_pred_prob3), np.add(np.add(y_pred_prob4, y_pred_prob5), y_pred_prob6)) / 6\n",
        "# plot_auc_score_and_multiclass_roc_curves(combined_y_test, combined_y_pred_prob, \"Combined\")"
      ]
    },
    {
      "cell_type": "markdown",
      "metadata": {
        "id": "3sin6hBZxXnD"
      },
      "source": [
        "# 10. AUC Score for the trained models"
      ]
    },
    {
      "cell_type": "code",
      "execution_count": 63,
      "metadata": {
        "execution": {
          "iopub.execute_input": "2023-03-08T08:06:38.007945Z",
          "iopub.status.busy": "2023-03-08T08:06:38.007281Z",
          "iopub.status.idle": "2023-03-08T08:06:38.104528Z",
          "shell.execute_reply": "2023-03-08T08:06:38.103388Z",
          "shell.execute_reply.started": "2023-03-08T08:06:38.007907Z"
        },
        "id": "viSjoBWurM5w",
        "outputId": "5758696f-5293-4e99-8302-5798a062658c",
        "trusted": true
      },
      "outputs": [
        {
          "name": "stdout",
          "output_type": "stream",
          "text": [
            "========== For DenseNet201_Epochs_10 ==========\n",
            "AUC (OVO): 0.99\n",
            "AUC (OVR): 0.99\n"
          ]
        }
      ],
      "source": [
        "def get_auc_score(y_test, y_pred_prob, model_name):\n",
        "    \n",
        "    print(10 * \"=\", f\"For {model_name}\", 10 * \"=\")\n",
        "    \n",
        "    auc_ovo = roc_auc_score(y_test, y_pred_prob, multi_class=\"ovo\")\n",
        "    auc_ovr = roc_auc_score(y_test, y_pred_prob, multi_class=\"ovr\")\n",
        "    \n",
        "    print('AUC (OVO): %.2f' % auc_ovo)\n",
        "    print('AUC (OVR): %.2f' % auc_ovr)\n",
        "\n",
        "# get_auc_score(y_test1, y_pred_prob1, \"DenseNet161_Epochs_2\")\n",
        "# get_auc_score(y_test2, y_pred_prob2, \"DenseNet161_Epochs_6\")\n",
        "# get_auc_score(y_test3, y_pred_prob3, \"DenseNet161_Epochs_15\")\n",
        "# get_auc_score(y_test4, y_pred_prob4, \"MobileVitV2_150_Epochs_15\")\n",
        "# get_auc_score(y_test5, y_pred_prob5, \"DenseNet201_Epochs_15\")\n",
        "# get_auc_score(y_test6, y_pred_prob6, \"Ensemble_DenseNet161_DenseNet201_Epochs_10\")\n",
        "# get_auc_score(combined_y_test, combined_y_pred_prob, \"Combined\")\n",
        "    \n",
        "get_auc_score(y_test, y_pred_prob, \"DenseNet201_Epochs_10\")"
      ]
    },
    {
      "cell_type": "markdown",
      "metadata": {
        "id": "Ca_nkLM4ygwT"
      },
      "source": [
        "# 11. Conclusion\n",
        "\n",
        "Since the dataset was sufficiently large (30k train & 7.5k val images), no augmentations were applied, thus saving GPU time and preventing any possible memory errors.\n",
        "\n",
        "For this task the following models were trained:\n",
        "- DenseNet161 (2 Epochs)\n",
        "- DenseNet161 (6 Epochs)\n",
        "- DenseNet161 (15 Epochs)\n",
        "- MobileVitV2 (15 Epochs)\n",
        "- DenseNet201 (15 Epochs)\n",
        "- Ensemble of DenseNet161 and DenseNet201 (10 Epochs)\n",
        "\n",
        "The final predictions of all the aforementioned models were **averaged** to achieve the best performace.\n",
        "\n",
        "PS: *Models such as ResNet50 and InceptionResNetV2 were also trained, however due to sub-par performance, they were not used.*"
      ]
    },
    {
      "cell_type": "code",
      "execution_count": null,
      "metadata": {
        "id": "W302DhjHrM5w"
      },
      "outputs": [],
      "source": []
    }
  ],
  "metadata": {
    "colab": {
      "provenance": []
    },
    "kernelspec": {
      "display_name": "Python 3",
      "language": "python",
      "name": "python3"
    },
    "language_info": {
      "codemirror_mode": {
        "name": "ipython",
        "version": 3
      },
      "file_extension": ".py",
      "mimetype": "text/x-python",
      "name": "python",
      "nbconvert_exporter": "python",
      "pygments_lexer": "ipython3",
      "version": "3.12.2"
    }
  },
  "nbformat": 4,
  "nbformat_minor": 0
}
