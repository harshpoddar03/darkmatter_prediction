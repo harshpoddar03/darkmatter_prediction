{
 "cells": [
  {
   "cell_type": "code",
   "execution_count": 1,
   "metadata": {},
   "outputs": [],
   "source": [
    "import importlib\n",
    "import functions\n",
    "importlib.reload(functions)\n",
    "from functions import get_images,prepro,centroid,draw_circle_and_calculate_intensityimport importlib\n",
    "import functions\n",
    "importlib.reload(functions)\n",
    "from functions import get_images,prepro,centroid,draw_circle_and_calculate_intensity\n",
    "\n",
    "\n"
   ]
  },
  {
   "cell_type": "code",
   "execution_count": 2,
   "metadata": {},
   "outputs": [],
   "source": [
    "data = get_images('train/no')\n"
   ]
  },
  {
   "cell_type": "code",
   "execution_count": null,
   "metadata": {},
   "outputs": [],
   "source": [
    "preprocessed_data = []\n",
    "for i in range(len(data)):\n",
    "    preprocessed_data.append(prepro(data[i].squeeze()))"
   ]
  },
  {
   "cell_type": "code",
   "execution_count": 3,
   "metadata": {},
   "outputs": [
    {
     "data": {
      "text/plain": [
       "10000"
      ]
     },
     "execution_count": 3,
     "metadata": {},
     "output_type": "execute_result"
    }
   ],
   "source": [
    "centroids = []\n",
    "for i in range(len(preprocessed_data)):\n",
    "    centroids.append(centroid(preprocessed_data[i]))\n"
   ]
  },
  {
   "cell_type": "code",
   "execution_count": null,
   "metadata": {},
   "outputs": [],
   "source": [
    "no_dict = {}\n",
    "\n",
    "def find_intensity_eachset2(data, centroids,circle,title):\n",
    "    for i in range(len(data)):\n",
    "        intensity_set = []\n",
    "        for j in range(circle):\n",
    "            intensity_values = draw_circle_and_calculate_intensity(data[i], (int(centroids[i][1]), int(centroids[i][0])), 4*j)[1]\n",
    "            intensity_set.append(intensity_values)\n",
    "        \n",
    "        no_dict[title+'_'+str(i)] = intensity_set\n",
    "\n",
    "    return no_dict"
   ]
  }
 ],
 "metadata": {
  "kernelspec": {
   "display_name": "ml_cuda",
   "language": "python",
   "name": "python3"
  },
  "language_info": {
   "codemirror_mode": {
    "name": "ipython",
    "version": 3
   },
   "file_extension": ".py",
   "mimetype": "text/x-python",
   "name": "python",
   "nbconvert_exporter": "python",
   "pygments_lexer": "ipython3",
   "version": "3.10.13"
  }
 },
 "nbformat": 4,
 "nbformat_minor": 2
}
