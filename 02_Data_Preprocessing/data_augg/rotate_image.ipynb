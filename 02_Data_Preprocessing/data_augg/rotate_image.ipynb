{
 "cells": [
  {
   "cell_type": "code",
   "execution_count": 1,
   "metadata": {},
   "outputs": [],
   "source": [
    "# add current file path to python path\n",
    "import os\n",
    "import sys\n",
    "sys.path.append(\"/home/harsh/Mount/darkmatter_prediction/02_Data_Preprocessing\")\n",
    "\n",
    "import importlib\n",
    "import functions as functions\n",
    "importlib.reload(functions)\n",
    "from functions import get_images,prepro,centroid,draw_circle_and_calculate_intensity\n",
    "\n",
    "import numpy as np\n",
    "from scipy.ndimage import rotate\n",
    "from tqdm import tqdm\n",
    "import gc\n"
   ]
  },
  {
   "cell_type": "code",
   "execution_count": 2,
   "metadata": {},
   "outputs": [
    {
     "name": "stderr",
     "output_type": "stream",
     "text": [
      "Loading images: 100%|██████████| 10000/10000 [00:31<00:00, 318.31image/s]\n",
      "Loading images: 100%|██████████| 10000/10000 [00:30<00:00, 323.87image/s]\n",
      "Loading images: 100%|██████████| 10000/10000 [00:30<00:00, 324.11image/s]\n"
     ]
    }
   ],
   "source": [
    "sphere_data = get_images('../../00_data/dataset/train/sphere')\n",
    "vort_data = get_images('../../00_data/dataset/train/vort')\n",
    "no_data = get_images('../../00_data/dataset/train/no')\n"
   ]
  },
  {
   "cell_type": "code",
   "execution_count": 4,
   "metadata": {},
   "outputs": [],
   "source": [
    "sphere_data = np.array(sphere_data)\n",
    "preprocessed_sphere_data = np.array([sphere_data[i].squeeze() for i in range(len(sphere_data))])\n",
    "vort_data = np.array(vort_data)\n",
    "preprocessed_vort_data = np.array([vort_data[i].squeeze() for i in range(len(vort_data))])\n",
    "no_data = np.array(no_data)\n",
    "preprocessed_no_data = np.array([no_data[i].squeeze() for i in range(len(no_data))])"
   ]
  },
  {
   "cell_type": "code",
   "execution_count": 5,
   "metadata": {},
   "outputs": [
    {
     "data": {
      "text/plain": [
       "(10000, 150, 150)"
      ]
     },
     "execution_count": 5,
     "metadata": {},
     "output_type": "execute_result"
    }
   ],
   "source": [
    "preprocessed_no_data.shape"
   ]
  },
  {
   "cell_type": "markdown",
   "metadata": {},
   "source": [
    "## The following code will rotate the images and save them in the respective folders"
   ]
  },
  {
   "cell_type": "code",
   "execution_count": 9,
   "metadata": {},
   "outputs": [],
   "source": [
    "\n",
    "def rotate_image(image, angle):\n",
    "    \"\"\"Rotate an image by a given angle and fill the blank space with zeros.\"\"\"\n",
    "    # Rotate the image. reshape=False to avoid automatic resizing\n",
    "    rotated_image = rotate(image, angle, reshape=False, mode='constant', cval=0.0)\n",
    "    return rotated_image\n",
    "\n",
    "def augment_dataset(images, rotation_count=4, rotation_angle=72):\n",
    "    \"\"\"Rotate each image in the dataset by 2 degrees, 179 times.\"\"\"\n",
    "    augmented_images = []\n",
    "    for image in tqdm(images, desc='Augmenting dataset', unit='images', total=len(images)):\n",
    "        for i in range(1, rotation_count + 1):\n",
    "            rotated_image = rotate_image(image, rotation_angle * i)\n",
    "            augmented_images.append(rotated_image)\n",
    "    return np.array(augmented_images)\n",
    "\n",
    "# Example usage\n",
    "# Assuming `images` is your dataset with the shape (no_of_images, height, width)\n",
    "# images = np.random.rand(100, 28, 28) # Example dataset\n",
    "# augmented_images = augment_dataset(images)\n",
    "# Now `augmented_images` contains the rotated images\n"
   ]
  },
  {
   "cell_type": "code",
   "execution_count": 11,
   "metadata": {},
   "outputs": [
    {
     "data": {
      "text/plain": [
       "2593"
      ]
     },
     "execution_count": 11,
     "metadata": {},
     "output_type": "execute_result"
    }
   ],
   "source": [
    "gc.collect()"
   ]
  },
  {
   "cell_type": "code",
   "execution_count": 14,
   "metadata": {},
   "outputs": [
    {
     "name": "stderr",
     "output_type": "stream",
     "text": [
      "Augmenting dataset: 100%|██████████| 10000/10000 [00:58<00:00, 171.18images/s]\n",
      "Augmenting dataset: 100%|██████████| 10000/10000 [00:58<00:00, 171.09images/s]\n",
      "Augmenting dataset: 100%|██████████| 10000/10000 [00:58<00:00, 170.44images/s]\n"
     ]
    }
   ],
   "source": [
    "augment_dataset_sphere = augment_dataset(preprocessed_sphere_data, rotation_count=5, rotation_angle=72)\n",
    "augment_dataset_vort = augment_dataset(preprocessed_vort_data, rotation_count=5, rotation_angle=72)\n",
    "augment_dataset_no = augment_dataset(preprocessed_no_data, rotation_count=5, rotation_angle=72)"
   ]
  },
  {
   "cell_type": "code",
   "execution_count": 15,
   "metadata": {},
   "outputs": [
    {
     "data": {
      "text/plain": [
       "(50000, 150, 150)"
      ]
     },
     "execution_count": 15,
     "metadata": {},
     "output_type": "execute_result"
    }
   ],
   "source": [
    "augment_dataset_sphere.shape"
   ]
  },
  {
   "cell_type": "code",
   "execution_count": 17,
   "metadata": {},
   "outputs": [
    {
     "ename": "",
     "evalue": "",
     "output_type": "error",
     "traceback": [
      "\u001b[1;31mThe Kernel crashed while executing code in the current cell or a previous cell. \n",
      "\u001b[1;31mPlease review the code in the cell(s) to identify a possible cause of the failure. \n",
      "\u001b[1;31mClick <a href='https://aka.ms/vscodeJupyterKernelCrash'>here</a> for more info. \n",
      "\u001b[1;31mView Jupyter <a href='command:jupyter.viewOutput'>log</a> for further details."
     ]
    }
   ],
   "source": [
    "with open('../../00_data/augumented/augmented_sphere.npy', 'wb') as f:\n",
    "    np.save(f, augment_dataset_sphere)\n",
    "with open('../../00_data/augumented/augmented_vort.npy', 'wb') as f:\n",
    "    np.save(f, augment_dataset_vort)\n",
    "with open('../../00_data/augumented/augmented_no.npy', 'wb') as f:\n",
    "    np.save(f, augment_dataset_no)"
   ]
  },
  {
   "cell_type": "code",
   "execution_count": null,
   "metadata": {},
   "outputs": [],
   "source": []
  }
 ],
 "metadata": {
  "kernelspec": {
   "display_name": "gsoc",
   "language": "python",
   "name": "python3"
  },
  "language_info": {
   "codemirror_mode": {
    "name": "ipython",
    "version": 3
   },
   "file_extension": ".py",
   "mimetype": "text/x-python",
   "name": "python",
   "nbconvert_exporter": "python",
   "pygments_lexer": "ipython3",
   "version": "3.12.2"
  }
 },
 "nbformat": 4,
 "nbformat_minor": 2
}
