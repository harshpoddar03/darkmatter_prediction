{
 "cells": [
  {
   "cell_type": "code",
   "execution_count": null,
   "metadata": {},
   "outputs": [],
   "source": [
    "import importlib\n",
    "import functions as functions\n",
    "importlib.reload(functions)\n",
    "from functions import get_images,prepro,centroid,draw_circle_and_calculate_intensity\n",
    "\n",
    "\n"
   ]
  },
  {
   "cell_type": "code",
   "execution_count": null,
   "metadata": {},
   "outputs": [],
   "source": [
    "data = get_images('../train/no')\n"
   ]
  },
  {
   "cell_type": "code",
   "execution_count": null,
   "metadata": {},
   "outputs": [],
   "source": [
    "# preprocessed_data = []\n",
    "# for i in range(len(data)):\n",
    "#     preprocessed_data.append(prepro(data[i].squeeze()))\n",
    "\n",
    "preprocessed_data = [data[i].squeeze() for i in range(len(data))]"
   ]
  },
  {
   "cell_type": "code",
   "execution_count": null,
   "metadata": {},
   "outputs": [],
   "source": [
    "type(preprocessed_data)\n"
   ]
  },
  {
   "cell_type": "code",
   "execution_count": null,
   "metadata": {},
   "outputs": [],
   "source": [
    "centroids = []\n",
    "for i in range(len(preprocessed_data)):\n",
    "    # centroids.append(centroid(preprocessed_data[i]))\n",
    "    centroids.append((75, 75))\n"
   ]
  },
  {
   "cell_type": "code",
   "execution_count": null,
   "metadata": {},
   "outputs": [],
   "source": [
    "from tqdm import tqdm\n",
    "\n",
    "def find_intensity_eachset_no(data, centroids,circle,title):\n",
    "    no_dict = {}\n",
    "\n",
    "    for i in tqdm(range(len(data)), desc=\"Data PRocessing\"):\n",
    "        intensity_set = []\n",
    "        for j in range(circle):\n",
    "            intensity_values = draw_circle_and_calculate_intensity(data[i], (int(centroids[i][1]), int(centroids[i][0])), 4*j)\n",
    "            intensity_set.append(intensity_values)\n",
    "        \n",
    "        no_dict[title+'_'+str(i)] = intensity_set\n",
    "\n",
    "    return no_dict"
   ]
  },
  {
   "cell_type": "code",
   "execution_count": null,
   "metadata": {},
   "outputs": [],
   "source": [
    "no_dict = find_intensity_eachset_no(preprocessed_data, centroids, 24, 'no')"
   ]
  },
  {
   "cell_type": "code",
   "execution_count": null,
   "metadata": {},
   "outputs": [],
   "source": [
    "import numpy as np\n",
    "\n",
    "# Assuming sphere_dict is your dictionary\n",
    "values = list(no_dict.values())\n",
    "numpy_array = np.array(values)\n",
    "\n",
    "print(numpy_array.shape)  # Should print (10000, 12, 360)"
   ]
  },
  {
   "cell_type": "code",
   "execution_count": null,
   "metadata": {},
   "outputs": [],
   "source": [
    "import pickle\n",
    "\n",
    "with open('no.pkl', 'wb') as f:\n",
    "    pickle.dump(numpy_array, f)"
   ]
  },
  {
   "cell_type": "code",
   "execution_count": null,
   "metadata": {},
   "outputs": [],
   "source": []
  },
  {
   "cell_type": "code",
   "execution_count": null,
   "metadata": {},
   "outputs": [],
   "source": []
  }
 ],
 "metadata": {
  "kernelspec": {
   "display_name": "ml_cuda",
   "language": "python",
   "name": "python3"
  },
  "language_info": {
   "codemirror_mode": {
    "name": "ipython",
    "version": 3
   },
   "file_extension": ".py",
   "mimetype": "text/x-python",
   "name": "python",
   "nbconvert_exporter": "python",
   "pygments_lexer": "ipython3",
   "version": "3.10.13"
  }
 },
 "nbformat": 4,
 "nbformat_minor": 2
}
