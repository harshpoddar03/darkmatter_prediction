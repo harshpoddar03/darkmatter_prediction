{
 "cells": [
  {
   "cell_type": "code",
   "execution_count": null,
   "metadata": {},
   "outputs": [],
   "source": [
    "import importlib\n",
    "import functions as functions\n",
    "importlib.reload(functions)\n",
    "from functions import get_images,prepro,centroid,draw_circle_and_calculate_intensity"
   ]
  },
  {
   "cell_type": "code",
   "execution_count": null,
   "metadata": {},
   "outputs": [],
   "source": [
    "data = get_images('../train/sphere')"
   ]
  },
  {
   "cell_type": "code",
   "execution_count": null,
   "metadata": {},
   "outputs": [],
   "source": [
    "preprocessed_data = [data[i].squeeze() for i in range(len(data))]"
   ]
  },
  {
   "cell_type": "code",
   "execution_count": null,
   "metadata": {},
   "outputs": [],
   "source": [
    "len(data)"
   ]
  },
  {
   "cell_type": "code",
   "execution_count": null,
   "metadata": {},
   "outputs": [],
   "source": [
    "len(preprocessed_data)\n"
   ]
  },
  {
   "cell_type": "code",
   "execution_count": null,
   "metadata": {},
   "outputs": [],
   "source": [
    "centroids = []\n",
    "for i in range(len(preprocessed_data)):\n",
    "    centroids.append((75, 75)) ## manually set the centroid for now"
   ]
  },
  {
   "cell_type": "code",
   "execution_count": null,
   "metadata": {},
   "outputs": [],
   "source": [
    "\n",
    "from tqdm import tqdm\n",
    "\n",
    "def find_intensity_eachset_sphere(data, centroids,circle,title):\n",
    "    sphere_dict = {}\n",
    "    for i in tqdm(range(len(data)), desc=\"Data PRocessing\"):\n",
    "        intensity_set = []\n",
    "        for j in range(circle):\n",
    "            intensity_values = draw_circle_and_calculate_intensity(data[i], (int(centroids[i][1]), int(centroids[i][0])), 4*j)\n",
    "            intensity_set.append(intensity_values)\n",
    "        \n",
    "        sphere_dict[title+'_'+str(i)] = intensity_set\n",
    "\n",
    "    return sphere_dict\n",
    "    "
   ]
  },
  {
   "cell_type": "code",
   "execution_count": null,
   "metadata": {},
   "outputs": [],
   "source": [
    "sphere_dict = find_intensity_eachset_sphere(preprocessed_data, centroids, 24, 'sphere')"
   ]
  },
  {
   "cell_type": "code",
   "execution_count": null,
   "metadata": {},
   "outputs": [],
   "source": [
    "sphere_dict['sphere_9999'][1]"
   ]
  },
  {
   "cell_type": "code",
   "execution_count": null,
   "metadata": {},
   "outputs": [],
   "source": [
    "import numpy as np\n",
    "\n",
    "# Assuming sphere_dict is your dictionary\n",
    "values = list(sphere_dict.values())\n",
    "numpy_array = np.array(values)\n",
    "\n",
    "print(numpy_array.shape)  # Should print (10000, 12, 360)"
   ]
  },
  {
   "cell_type": "code",
   "execution_count": null,
   "metadata": {},
   "outputs": [],
   "source": [
    "import pickle\n",
    "\n",
    "with open('sphere.pkl', 'wb') as f:\n",
    "    pickle.dump(numpy_array, f)"
   ]
  },
  {
   "cell_type": "code",
   "execution_count": null,
   "metadata": {},
   "outputs": [],
   "source": []
  }
 ],
 "metadata": {
  "kernelspec": {
   "display_name": "ml_cuda",
   "language": "python",
   "name": "python3"
  },
  "language_info": {
   "codemirror_mode": {
    "name": "ipython",
    "version": 3
   },
   "file_extension": ".py",
   "mimetype": "text/x-python",
   "name": "python",
   "nbconvert_exporter": "python",
   "pygments_lexer": "ipython3",
   "version": "3.10.13"
  }
 },
 "nbformat": 4,
 "nbformat_minor": 2
}
